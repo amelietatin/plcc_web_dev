{
 "cells": [
  {
   "cell_type": "code",
   "execution_count": 25,
   "metadata": {},
   "outputs": [
    {
     "name": "stdout",
     "output_type": "stream",
     "text": [
      "Requirement already satisfied: earthengine-api in /Users/amelietatin/.pyenv/versions/3.10.6/envs/plcc_web_dev/lib/python3.10/site-packages (0.1.405)\n",
      "Requirement already satisfied: google-cloud-storage in /Users/amelietatin/.pyenv/versions/3.10.6/envs/plcc_web_dev/lib/python3.10/site-packages (from earthengine-api) (2.16.0)\n",
      "Requirement already satisfied: google-api-python-client>=1.12.1 in /Users/amelietatin/.pyenv/versions/3.10.6/envs/plcc_web_dev/lib/python3.10/site-packages (from earthengine-api) (2.131.0)\n",
      "Requirement already satisfied: google-auth>=1.4.1 in /Users/amelietatin/.pyenv/versions/3.10.6/envs/plcc_web_dev/lib/python3.10/site-packages (from earthengine-api) (2.29.0)\n",
      "Requirement already satisfied: google-auth-httplib2>=0.0.3 in /Users/amelietatin/.pyenv/versions/3.10.6/envs/plcc_web_dev/lib/python3.10/site-packages (from earthengine-api) (0.2.0)\n",
      "Requirement already satisfied: httplib2<1dev,>=0.9.2 in /Users/amelietatin/.pyenv/versions/3.10.6/envs/plcc_web_dev/lib/python3.10/site-packages (from earthengine-api) (0.22.0)\n",
      "Requirement already satisfied: requests in /Users/amelietatin/.pyenv/versions/3.10.6/envs/plcc_web_dev/lib/python3.10/site-packages (from earthengine-api) (2.32.3)\n",
      "Requirement already satisfied: google-api-core!=2.0.*,!=2.1.*,!=2.2.*,!=2.3.0,<3.0.0.dev0,>=1.31.5 in /Users/amelietatin/.pyenv/versions/3.10.6/envs/plcc_web_dev/lib/python3.10/site-packages (from google-api-python-client>=1.12.1->earthengine-api) (2.19.0)\n",
      "Requirement already satisfied: uritemplate<5,>=3.0.1 in /Users/amelietatin/.pyenv/versions/3.10.6/envs/plcc_web_dev/lib/python3.10/site-packages (from google-api-python-client>=1.12.1->earthengine-api) (4.1.1)\n",
      "Requirement already satisfied: cachetools<6.0,>=2.0.0 in /Users/amelietatin/.pyenv/versions/3.10.6/envs/plcc_web_dev/lib/python3.10/site-packages (from google-auth>=1.4.1->earthengine-api) (5.3.3)\n",
      "Requirement already satisfied: pyasn1-modules>=0.2.1 in /Users/amelietatin/.pyenv/versions/3.10.6/envs/plcc_web_dev/lib/python3.10/site-packages (from google-auth>=1.4.1->earthengine-api) (0.4.0)\n",
      "Requirement already satisfied: rsa<5,>=3.1.4 in /Users/amelietatin/.pyenv/versions/3.10.6/envs/plcc_web_dev/lib/python3.10/site-packages (from google-auth>=1.4.1->earthengine-api) (4.9)\n",
      "Requirement already satisfied: pyparsing!=3.0.0,!=3.0.1,!=3.0.2,!=3.0.3,<4,>=2.4.2 in /Users/amelietatin/.pyenv/versions/3.10.6/envs/plcc_web_dev/lib/python3.10/site-packages (from httplib2<1dev,>=0.9.2->earthengine-api) (3.1.2)\n",
      "Requirement already satisfied: google-cloud-core<3.0dev,>=2.3.0 in /Users/amelietatin/.pyenv/versions/3.10.6/envs/plcc_web_dev/lib/python3.10/site-packages (from google-cloud-storage->earthengine-api) (2.4.1)\n",
      "Requirement already satisfied: google-resumable-media>=2.6.0 in /Users/amelietatin/.pyenv/versions/3.10.6/envs/plcc_web_dev/lib/python3.10/site-packages (from google-cloud-storage->earthengine-api) (2.7.0)\n",
      "Requirement already satisfied: google-crc32c<2.0dev,>=1.0 in /Users/amelietatin/.pyenv/versions/3.10.6/envs/plcc_web_dev/lib/python3.10/site-packages (from google-cloud-storage->earthengine-api) (1.5.0)\n",
      "Requirement already satisfied: charset-normalizer<4,>=2 in /Users/amelietatin/.pyenv/versions/3.10.6/envs/plcc_web_dev/lib/python3.10/site-packages (from requests->earthengine-api) (3.3.2)\n",
      "Requirement already satisfied: idna<4,>=2.5 in /Users/amelietatin/.pyenv/versions/3.10.6/envs/plcc_web_dev/lib/python3.10/site-packages (from requests->earthengine-api) (3.7)\n",
      "Requirement already satisfied: urllib3<3,>=1.21.1 in /Users/amelietatin/.pyenv/versions/3.10.6/envs/plcc_web_dev/lib/python3.10/site-packages (from requests->earthengine-api) (2.2.1)\n",
      "Requirement already satisfied: certifi>=2017.4.17 in /Users/amelietatin/.pyenv/versions/3.10.6/envs/plcc_web_dev/lib/python3.10/site-packages (from requests->earthengine-api) (2024.2.2)\n",
      "Requirement already satisfied: googleapis-common-protos<2.0.dev0,>=1.56.2 in /Users/amelietatin/.pyenv/versions/3.10.6/envs/plcc_web_dev/lib/python3.10/site-packages (from google-api-core!=2.0.*,!=2.1.*,!=2.2.*,!=2.3.0,<3.0.0.dev0,>=1.31.5->google-api-python-client>=1.12.1->earthengine-api) (1.63.0)\n",
      "Requirement already satisfied: protobuf!=3.20.0,!=3.20.1,!=4.21.0,!=4.21.1,!=4.21.2,!=4.21.3,!=4.21.4,!=4.21.5,<5.0.0.dev0,>=3.19.5 in /Users/amelietatin/.pyenv/versions/3.10.6/envs/plcc_web_dev/lib/python3.10/site-packages (from google-api-core!=2.0.*,!=2.1.*,!=2.2.*,!=2.3.0,<3.0.0.dev0,>=1.31.5->google-api-python-client>=1.12.1->earthengine-api) (4.25.3)\n",
      "Requirement already satisfied: proto-plus<2.0.0dev,>=1.22.3 in /Users/amelietatin/.pyenv/versions/3.10.6/envs/plcc_web_dev/lib/python3.10/site-packages (from google-api-core!=2.0.*,!=2.1.*,!=2.2.*,!=2.3.0,<3.0.0.dev0,>=1.31.5->google-api-python-client>=1.12.1->earthengine-api) (1.23.0)\n",
      "Requirement already satisfied: pyasn1<0.7.0,>=0.4.6 in /Users/amelietatin/.pyenv/versions/3.10.6/envs/plcc_web_dev/lib/python3.10/site-packages (from pyasn1-modules>=0.2.1->google-auth>=1.4.1->earthengine-api) (0.6.0)\n",
      "Note: you may need to restart the kernel to use updated packages.\n",
      "Requirement already satisfied: ee in /Users/amelietatin/.pyenv/versions/3.10.6/envs/plcc_web_dev/lib/python3.10/site-packages (0.2)\n",
      "Requirement already satisfied: blessings in /Users/amelietatin/.pyenv/versions/3.10.6/envs/plcc_web_dev/lib/python3.10/site-packages (from ee) (1.7)\n",
      "Requirement already satisfied: six in /Users/amelietatin/.pyenv/versions/3.10.6/envs/plcc_web_dev/lib/python3.10/site-packages (from blessings->ee) (1.16.0)\n",
      "Note: you may need to restart the kernel to use updated packages.\n"
     ]
    }
   ],
   "source": [
    "%pip install earthengine-api\n",
    "%pip install ee"
   ]
  },
  {
   "cell_type": "code",
   "execution_count": 2,
   "metadata": {},
   "outputs": [],
   "source": [
    "try:\n",
    "    import StringIO\n",
    "except ImportError:\n",
    "    from io import StringIO"
   ]
  },
  {
   "cell_type": "code",
   "execution_count": 1,
   "metadata": {},
   "outputs": [
    {
     "ename": "ModuleNotFoundError",
     "evalue": "No module named 'StringIO'",
     "output_type": "error",
     "traceback": [
      "\u001b[0;31m---------------------------------------------------------------------------\u001b[0m",
      "\u001b[0;31mModuleNotFoundError\u001b[0m                       Traceback (most recent call last)",
      "Cell \u001b[0;32mIn[1], line 1\u001b[0m\n\u001b[0;32m----> 1\u001b[0m \u001b[38;5;28;01mimport\u001b[39;00m \u001b[38;5;21;01mee\u001b[39;00m\n\u001b[1;32m      2\u001b[0m \u001b[38;5;28;01mimport\u001b[39;00m \u001b[38;5;21;01mgeopandas\u001b[39;00m \u001b[38;5;28;01mas\u001b[39;00m \u001b[38;5;21;01mgpd\u001b[39;00m\n",
      "File \u001b[0;32m~/.pyenv/versions/3.10.6/envs/plcc_web_dev/lib/python3.10/site-packages/ee/__init__.py:1\u001b[0m\n\u001b[0;32m----> 1\u001b[0m \u001b[38;5;28;01mfrom\u001b[39;00m \u001b[38;5;21;01m.\u001b[39;00m\u001b[38;5;21;01mmain\u001b[39;00m \u001b[38;5;28;01mimport\u001b[39;00m main\n",
      "File \u001b[0;32m~/.pyenv/versions/3.10.6/envs/plcc_web_dev/lib/python3.10/site-packages/ee/main.py:10\u001b[0m\n\u001b[1;32m      8\u001b[0m \u001b[38;5;28;01mimport\u001b[39;00m \u001b[38;5;21;01mstat\u001b[39;00m\n\u001b[1;32m      9\u001b[0m \u001b[38;5;28;01mimport\u001b[39;00m \u001b[38;5;21;01mplistlib\u001b[39;00m\n\u001b[0;32m---> 10\u001b[0m \u001b[38;5;28;01mimport\u001b[39;00m \u001b[38;5;21;01mStringIO\u001b[39;00m\n\u001b[1;32m     11\u001b[0m \u001b[38;5;28;01mimport\u001b[39;00m \u001b[38;5;21;01mplatform\u001b[39;00m\n\u001b[1;32m     12\u001b[0m \u001b[38;5;28;01mimport\u001b[39;00m \u001b[38;5;21;01mtime\u001b[39;00m\n",
      "\u001b[0;31mModuleNotFoundError\u001b[0m: No module named 'StringIO'"
     ]
    }
   ],
   "source": [
    "import ee\n",
    "import geopandas as gpd"
   ]
  },
  {
   "cell_type": "code",
   "execution_count": 6,
   "metadata": {},
   "outputs": [
    {
     "data": {
      "text/plain": [
       "'/Users/amelietatin/code/amelietatin/plcc_web_dev/plcc_web_dev/notebooks'"
      ]
     },
     "execution_count": 6,
     "metadata": {},
     "output_type": "execute_result"
    }
   ],
   "source": [
    "pwd"
   ]
  },
  {
   "cell_type": "code",
   "execution_count": 12,
   "metadata": {},
   "outputs": [],
   "source": [
    "protected_areas = gpd.read_file(\"../../raw_data/sample_protected_areas_624/protected_areas_624.shp\")"
   ]
  },
  {
   "cell_type": "code",
   "execution_count": 10,
   "metadata": {},
   "outputs": [
    {
     "data": {
      "text/plain": [
       "0      CY3000008\n",
       "1      CY4000004\n",
       "2      CY5000005\n",
       "3      DE4530301\n",
       "4      DE1830301\n",
       "         ...    \n",
       "619    AT3408000\n",
       "620    AT3423000\n",
       "621    BG0000273\n",
       "622    BE35021C0\n",
       "623    BG0002018\n",
       "Name: SITECODE, Length: 624, dtype: object"
      ]
     },
     "execution_count": 10,
     "metadata": {},
     "output_type": "execute_result"
    }
   ],
   "source": [
    "protected_areas_sample_sitecodes = protected_areas['SITECODE']\n",
    "protected_areas_sample_sitecodes"
   ]
  },
  {
   "cell_type": "code",
   "execution_count": 14,
   "metadata": {},
   "outputs": [
    {
     "data": {
      "text/html": [
       "<div>\n",
       "<style scoped>\n",
       "    .dataframe tbody tr th:only-of-type {\n",
       "        vertical-align: middle;\n",
       "    }\n",
       "\n",
       "    .dataframe tbody tr th {\n",
       "        vertical-align: top;\n",
       "    }\n",
       "\n",
       "    .dataframe thead th {\n",
       "        text-align: right;\n",
       "    }\n",
       "</style>\n",
       "<table border=\"1\" class=\"dataframe\">\n",
       "  <thead>\n",
       "    <tr style=\"text-align: right;\">\n",
       "      <th></th>\n",
       "      <th>SITECODE</th>\n",
       "      <th>SITENAME</th>\n",
       "      <th>lon</th>\n",
       "      <th>lat</th>\n",
       "      <th>geometry</th>\n",
       "    </tr>\n",
       "  </thead>\n",
       "  <tbody>\n",
       "    <tr>\n",
       "      <th>0</th>\n",
       "      <td>CY3000008</td>\n",
       "      <td>LIMNI PARALIMNIOU</td>\n",
       "      <td>33.966494</td>\n",
       "      <td>35.035218</td>\n",
       "      <td>POLYGON ((6492126.591 1674374.462, 6492130.938...</td>\n",
       "    </tr>\n",
       "  </tbody>\n",
       "</table>\n",
       "</div>"
      ],
      "text/plain": [
       "    SITECODE           SITENAME        lon        lat  \\\n",
       "0  CY3000008  LIMNI PARALIMNIOU  33.966494  35.035218   \n",
       "\n",
       "                                            geometry  \n",
       "0  POLYGON ((6492126.591 1674374.462, 6492130.938...  "
      ]
     },
     "execution_count": 14,
     "metadata": {},
     "output_type": "execute_result"
    }
   ],
   "source": [
    "protected_areas_sample = protected_areas.iloc[[0]]\n",
    "protected_areas_sample"
   ]
  },
  {
   "cell_type": "code",
   "execution_count": 15,
   "metadata": {},
   "outputs": [
    {
     "ename": "NameError",
     "evalue": "name 'ee' is not defined",
     "output_type": "error",
     "traceback": [
      "\u001b[0;31m---------------------------------------------------------------------------\u001b[0m",
      "\u001b[0;31mNameError\u001b[0m                                 Traceback (most recent call last)",
      "Cell \u001b[0;32mIn[15], line 2\u001b[0m\n\u001b[1;32m      1\u001b[0m service_account \u001b[38;5;241m=\u001b[39m \u001b[38;5;124m'\u001b[39m\u001b[38;5;124mproject-lc@lewagon-lc-amelietatin.iam.gserviceaccount.com\u001b[39m\u001b[38;5;124m'\u001b[39m\n\u001b[0;32m----> 2\u001b[0m credentials \u001b[38;5;241m=\u001b[39m \u001b[43mee\u001b[49m\u001b[38;5;241m.\u001b[39mServiceAccountCredentials(service_account, \u001b[38;5;124m'\u001b[39m\u001b[38;5;124m./key.json\u001b[39m\u001b[38;5;124m'\u001b[39m)\n\u001b[1;32m      3\u001b[0m ee\u001b[38;5;241m.\u001b[39mInitialize(credentials)\n",
      "\u001b[0;31mNameError\u001b[0m: name 'ee' is not defined"
     ]
    }
   ],
   "source": [
    "service_account = 'project-lc@lewagon-lc-amelietatin.iam.gserviceaccount.com'\n",
    "credentials = ee.ServiceAccountCredentials(service_account, './key.json')\n",
    "ee.Initialize(credentials)"
   ]
  },
  {
   "cell_type": "code",
   "execution_count": null,
   "metadata": {},
   "outputs": [],
   "source": []
  }
 ],
 "metadata": {
  "kernelspec": {
   "display_name": "plcc_web_dev",
   "language": "python",
   "name": "python3"
  },
  "language_info": {
   "codemirror_mode": {
    "name": "ipython",
    "version": 3
   },
   "file_extension": ".py",
   "mimetype": "text/x-python",
   "name": "python",
   "nbconvert_exporter": "python",
   "pygments_lexer": "ipython3",
   "version": "3.10.6"
  }
 },
 "nbformat": 4,
 "nbformat_minor": 2
}
