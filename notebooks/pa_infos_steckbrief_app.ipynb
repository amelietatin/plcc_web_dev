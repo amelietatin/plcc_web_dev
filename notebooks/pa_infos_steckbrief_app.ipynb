{
 "cells": [
  {
   "cell_type": "markdown",
   "id": "0824d0ba",
   "metadata": {},
   "source": [
    "# Packages"
   ]
  },
  {
   "cell_type": "code",
   "execution_count": 2,
   "id": "b96948e1",
   "metadata": {},
   "outputs": [],
   "source": [
    "import pandas as pd"
   ]
  },
  {
   "cell_type": "markdown",
   "id": "7eb93f37",
   "metadata": {},
   "source": [
    "# Open data"
   ]
  },
  {
   "cell_type": "code",
   "execution_count": 2,
   "id": "94701859",
   "metadata": {
    "scrolled": true
   },
   "outputs": [
    {
     "data": {
      "text/plain": [
       "'/Users/amelietatin/code/amelietatin/plcc_web_dev/plcc_web_dev/notebooks'"
      ]
     },
     "execution_count": 2,
     "metadata": {},
     "output_type": "execute_result"
    }
   ],
   "source": [
    "pwd"
   ]
  },
  {
   "cell_type": "code",
   "execution_count": 164,
   "id": "31985674",
   "metadata": {},
   "outputs": [],
   "source": [
    "sitenames = pd.read_csv('../raw_data/pa_infos_csv/Natura2000_end2022_NATURA2000SITES.csv', sep=',')\n",
    "bioregion = pd.read_csv('../raw_data/pa_infos_csv/Natura2000_end2022_BIOREGION.csv', sep=',')\n",
    "species = pd.read_csv('../raw_data/pa_infos_csv/Natura2000_end2022_SPECIES.csv', sep=',')\n",
    "other_species = pd.read_csv('../raw_data/pa_infos_csv/Natura2000_end2022_OTHERSPECIES.csv', sep=',')\n",
    "habitats = pd.read_csv('../raw_data/pa_infos_csv/Natura2000_end2022_HABITATS.csv', sep=',')\n",
    "impact = pd.read_csv('../raw_data/pa_infos_csv/Natura2000_end2022_IMPACT.csv', sep=',')\n",
    "management = pd.read_csv('../raw_data/pa_infos_csv/Natura2000_end2022_MANAGEMENT.csv', sep=',')"
   ]
  },
  {
   "cell_type": "markdown",
   "id": "b75167ef",
   "metadata": {},
   "source": [
    "# Selecting columns"
   ]
  },
  {
   "cell_type": "code",
   "execution_count": 165,
   "id": "483e89db",
   "metadata": {},
   "outputs": [],
   "source": [
    "sitenames = sitenames[['SITECODE', 'SITENAME']]"
   ]
  },
  {
   "cell_type": "code",
   "execution_count": 166,
   "id": "2164e69d",
   "metadata": {},
   "outputs": [],
   "source": [
    "bioregion = bioregion[['SITECODE', 'BIOGEOGRAPHICREG']]\n",
    "bioregion.columns = ['SITECODE', 'BIOREGION']"
   ]
  },
  {
   "cell_type": "code",
   "execution_count": 167,
   "id": "92e845e6",
   "metadata": {},
   "outputs": [
    {
     "data": {
      "text/plain": [
       "27193"
      ]
     },
     "execution_count": 167,
     "metadata": {},
     "output_type": "execute_result"
    }
   ],
   "source": [
    "bioregion.SITECODE.nunique()"
   ]
  },
  {
   "cell_type": "code",
   "execution_count": 168,
   "id": "f444b330",
   "metadata": {},
   "outputs": [
    {
     "data": {
      "text/html": [
       "<div>\n",
       "<style scoped>\n",
       "    .dataframe tbody tr th:only-of-type {\n",
       "        vertical-align: middle;\n",
       "    }\n",
       "\n",
       "    .dataframe tbody tr th {\n",
       "        vertical-align: top;\n",
       "    }\n",
       "\n",
       "    .dataframe thead th {\n",
       "        text-align: right;\n",
       "    }\n",
       "</style>\n",
       "<table border=\"1\" class=\"dataframe\">\n",
       "  <thead>\n",
       "    <tr style=\"text-align: right;\">\n",
       "      <th></th>\n",
       "      <th>SITECODE</th>\n",
       "      <th>COUNTRY_CODE</th>\n",
       "    </tr>\n",
       "  </thead>\n",
       "  <tbody>\n",
       "    <tr>\n",
       "      <th>0</th>\n",
       "      <td>HUKN30002</td>\n",
       "      <td>HU</td>\n",
       "    </tr>\n",
       "    <tr>\n",
       "      <th>1</th>\n",
       "      <td>LTPRI0014</td>\n",
       "      <td>LT</td>\n",
       "    </tr>\n",
       "    <tr>\n",
       "      <th>2</th>\n",
       "      <td>LTPRI0014</td>\n",
       "      <td>LT</td>\n",
       "    </tr>\n",
       "    <tr>\n",
       "      <th>3</th>\n",
       "      <td>LTPRI0014</td>\n",
       "      <td>LT</td>\n",
       "    </tr>\n",
       "    <tr>\n",
       "      <th>4</th>\n",
       "      <td>LTPRI0014</td>\n",
       "      <td>LT</td>\n",
       "    </tr>\n",
       "    <tr>\n",
       "      <th>...</th>\n",
       "      <td>...</td>\n",
       "      <td>...</td>\n",
       "    </tr>\n",
       "    <tr>\n",
       "      <th>152798</th>\n",
       "      <td>DE2721301</td>\n",
       "      <td>DE</td>\n",
       "    </tr>\n",
       "    <tr>\n",
       "      <th>152799</th>\n",
       "      <td>DE2721301</td>\n",
       "      <td>DE</td>\n",
       "    </tr>\n",
       "    <tr>\n",
       "      <th>152800</th>\n",
       "      <td>DE2721301</td>\n",
       "      <td>DE</td>\n",
       "    </tr>\n",
       "    <tr>\n",
       "      <th>152801</th>\n",
       "      <td>DE2928331</td>\n",
       "      <td>DE</td>\n",
       "    </tr>\n",
       "    <tr>\n",
       "      <th>152802</th>\n",
       "      <td>DE2928331</td>\n",
       "      <td>DE</td>\n",
       "    </tr>\n",
       "  </tbody>\n",
       "</table>\n",
       "<p>152803 rows × 2 columns</p>\n",
       "</div>"
      ],
      "text/plain": [
       "         SITECODE COUNTRY_CODE\n",
       "0       HUKN30002           HU\n",
       "1       LTPRI0014           LT\n",
       "2       LTPRI0014           LT\n",
       "3       LTPRI0014           LT\n",
       "4       LTPRI0014           LT\n",
       "...           ...          ...\n",
       "152798  DE2721301           DE\n",
       "152799  DE2721301           DE\n",
       "152800  DE2721301           DE\n",
       "152801  DE2928331           DE\n",
       "152802  DE2928331           DE\n",
       "\n",
       "[152803 rows x 2 columns]"
      ]
     },
     "execution_count": 168,
     "metadata": {},
     "output_type": "execute_result"
    }
   ],
   "source": [
    "countries = habitats[['SITECODE', 'COUNTRY_CODE']]\n",
    "countries"
   ]
  },
  {
   "cell_type": "code",
   "execution_count": 169,
   "id": "e018c086",
   "metadata": {},
   "outputs": [],
   "source": [
    "species = species[['SITECODE', 'SPECIESNAME', 'SPGROUP']]\n",
    "species.columns = ['SITECODE', 'SPECIESNAME', 'SPECIESGROUP']"
   ]
  },
  {
   "cell_type": "code",
   "execution_count": 170,
   "id": "18aabe69",
   "metadata": {},
   "outputs": [],
   "source": [
    "other_species = other_species[['SITECODE', 'SPECIESGROUP', 'SPECIESNAME']]\n",
    "other_species.columns = ['SITECODE', 'OTHER_SPECIESGROUP', 'OTHER_SPECIESNAME']"
   ]
  },
  {
   "cell_type": "code",
   "execution_count": 171,
   "id": "102f83c1",
   "metadata": {},
   "outputs": [],
   "source": [
    "habitat_class = habitats[['SITECODE', 'DESCRIPTION']]\n",
    "habitat_class.columns = ['SITECODE', 'HABITAT_DESCRIPTION']"
   ]
  },
  {
   "cell_type": "code",
   "execution_count": 172,
   "id": "74081005",
   "metadata": {},
   "outputs": [
    {
     "data": {
      "text/plain": [
       "22822"
      ]
     },
     "execution_count": 172,
     "metadata": {},
     "output_type": "execute_result"
    }
   ],
   "source": [
    "habitat_class.SITECODE.nunique()"
   ]
  },
  {
   "cell_type": "code",
   "execution_count": 173,
   "id": "5940dcfe",
   "metadata": {},
   "outputs": [],
   "source": [
    "impact = impact[['SITECODE', 'DESCRIPTION']]\n",
    "impact.columns = ['SITECODE', 'IMPACT_DESCRIPTION']"
   ]
  },
  {
   "cell_type": "code",
   "execution_count": 174,
   "id": "79f3cb6e",
   "metadata": {},
   "outputs": [
    {
     "data": {
      "text/plain": [
       "24312"
      ]
     },
     "execution_count": 174,
     "metadata": {},
     "output_type": "execute_result"
    }
   ],
   "source": [
    "impact.SITECODE.nunique()"
   ]
  },
  {
   "cell_type": "code",
   "execution_count": 175,
   "id": "b356f0df",
   "metadata": {},
   "outputs": [],
   "source": [
    "management = management[['SITECODE', 'MANAG_CONSERV_MEASURES', 'MANAG_PLAN']]"
   ]
  },
  {
   "cell_type": "code",
   "execution_count": 176,
   "id": "d4924762",
   "metadata": {},
   "outputs": [
    {
     "data": {
      "text/plain": [
       "27187"
      ]
     },
     "execution_count": 176,
     "metadata": {},
     "output_type": "execute_result"
    }
   ],
   "source": [
    "management.SITECODE.nunique()"
   ]
  },
  {
   "cell_type": "markdown",
   "id": "401be786",
   "metadata": {},
   "source": [
    "# Merging columns"
   ]
  },
  {
   "cell_type": "code",
   "execution_count": 198,
   "id": "dae87f3a",
   "metadata": {},
   "outputs": [
    {
     "data": {
      "text/html": [
       "<div>\n",
       "<style scoped>\n",
       "    .dataframe tbody tr th:only-of-type {\n",
       "        vertical-align: middle;\n",
       "    }\n",
       "\n",
       "    .dataframe tbody tr th {\n",
       "        vertical-align: top;\n",
       "    }\n",
       "\n",
       "    .dataframe thead th {\n",
       "        text-align: right;\n",
       "    }\n",
       "</style>\n",
       "<table border=\"1\" class=\"dataframe\">\n",
       "  <thead>\n",
       "    <tr style=\"text-align: right;\">\n",
       "      <th></th>\n",
       "      <th></th>\n",
       "      <th>SPECIESNAME</th>\n",
       "      <th>OTHER_SPECIESGROUP</th>\n",
       "      <th>OTHER_SPECIESNAME</th>\n",
       "    </tr>\n",
       "    <tr>\n",
       "      <th>SITECODE</th>\n",
       "      <th>SPECIESGROUP</th>\n",
       "      <th></th>\n",
       "      <th></th>\n",
       "      <th></th>\n",
       "    </tr>\n",
       "  </thead>\n",
       "  <tbody>\n",
       "    <tr>\n",
       "      <th rowspan=\"2\" valign=\"top\">AT1101112</th>\n",
       "      <th>Birds</th>\n",
       "      <td>21</td>\n",
       "      <td>21</td>\n",
       "      <td>21</td>\n",
       "    </tr>\n",
       "    <tr>\n",
       "      <th>Plants</th>\n",
       "      <td>14</td>\n",
       "      <td>14</td>\n",
       "      <td>14</td>\n",
       "    </tr>\n",
       "    <tr>\n",
       "      <th rowspan=\"2\" valign=\"top\">AT1102112</th>\n",
       "      <th>Birds</th>\n",
       "      <td>63</td>\n",
       "      <td>63</td>\n",
       "      <td>63</td>\n",
       "    </tr>\n",
       "    <tr>\n",
       "      <th>Mammals</th>\n",
       "      <td>7</td>\n",
       "      <td>7</td>\n",
       "      <td>7</td>\n",
       "    </tr>\n",
       "    <tr>\n",
       "      <th>AT1103112</th>\n",
       "      <th>Birds</th>\n",
       "      <td>4</td>\n",
       "      <td>4</td>\n",
       "      <td>4</td>\n",
       "    </tr>\n",
       "    <tr>\n",
       "      <th>...</th>\n",
       "      <th>...</th>\n",
       "      <td>...</td>\n",
       "      <td>...</td>\n",
       "      <td>...</td>\n",
       "    </tr>\n",
       "    <tr>\n",
       "      <th>SKUEV2376</th>\n",
       "      <th>Invertebrates</th>\n",
       "      <td>9</td>\n",
       "      <td>9</td>\n",
       "      <td>9</td>\n",
       "    </tr>\n",
       "    <tr>\n",
       "      <th>SKUEV3251</th>\n",
       "      <th>Plants</th>\n",
       "      <td>6</td>\n",
       "      <td>6</td>\n",
       "      <td>6</td>\n",
       "    </tr>\n",
       "    <tr>\n",
       "      <th>SKUEV4000</th>\n",
       "      <th>Plants</th>\n",
       "      <td>1</td>\n",
       "      <td>1</td>\n",
       "      <td>1</td>\n",
       "    </tr>\n",
       "    <tr>\n",
       "      <th rowspan=\"2\" valign=\"top\">SKUEV4027</th>\n",
       "      <th>Fish</th>\n",
       "      <td>1</td>\n",
       "      <td>1</td>\n",
       "      <td>1</td>\n",
       "    </tr>\n",
       "    <tr>\n",
       "      <th>Mammals</th>\n",
       "      <td>1</td>\n",
       "      <td>1</td>\n",
       "      <td>1</td>\n",
       "    </tr>\n",
       "  </tbody>\n",
       "</table>\n",
       "<p>34207 rows × 3 columns</p>\n",
       "</div>"
      ],
      "text/plain": [
       "                         SPECIESNAME  OTHER_SPECIESGROUP  OTHER_SPECIESNAME\n",
       "SITECODE  SPECIESGROUP                                                     \n",
       "AT1101112 Birds                   21                  21                 21\n",
       "          Plants                  14                  14                 14\n",
       "AT1102112 Birds                   63                  63                 63\n",
       "          Mammals                  7                   7                  7\n",
       "AT1103112 Birds                    4                   4                  4\n",
       "...                              ...                 ...                ...\n",
       "SKUEV2376 Invertebrates            9                   9                  9\n",
       "SKUEV3251 Plants                   6                   6                  6\n",
       "SKUEV4000 Plants                   1                   1                  1\n",
       "SKUEV4027 Fish                     1                   1                  1\n",
       "          Mammals                  1                   1                  1\n",
       "\n",
       "[34207 rows x 3 columns]"
      ]
     },
     "execution_count": 198,
     "metadata": {},
     "output_type": "execute_result"
    }
   ],
   "source": [
    "species.groupby(['SITECODE','SPECIESGROUP']).count()"
   ]
  },
  {
   "cell_type": "code",
   "execution_count": 177,
   "id": "e7b4dd65",
   "metadata": {},
   "outputs": [],
   "source": [
    "bioregion = bioregion.merge(countries, on='SITECODE').merge(sitenames, on='SITECODE').drop_duplicates()"
   ]
  },
  {
   "cell_type": "code",
   "execution_count": 178,
   "id": "b043f0f2",
   "metadata": {},
   "outputs": [
    {
     "data": {
      "text/html": [
       "<div>\n",
       "<style scoped>\n",
       "    .dataframe tbody tr th:only-of-type {\n",
       "        vertical-align: middle;\n",
       "    }\n",
       "\n",
       "    .dataframe tbody tr th {\n",
       "        vertical-align: top;\n",
       "    }\n",
       "\n",
       "    .dataframe thead th {\n",
       "        text-align: right;\n",
       "    }\n",
       "</style>\n",
       "<table border=\"1\" class=\"dataframe\">\n",
       "  <thead>\n",
       "    <tr style=\"text-align: right;\">\n",
       "      <th></th>\n",
       "      <th>SITECODE</th>\n",
       "      <th>SPECIESNAME</th>\n",
       "      <th>SPECIESGROUP</th>\n",
       "      <th>OTHER_SPECIESGROUP</th>\n",
       "      <th>OTHER_SPECIESNAME</th>\n",
       "    </tr>\n",
       "  </thead>\n",
       "  <tbody>\n",
       "    <tr>\n",
       "      <th>0</th>\n",
       "      <td>LTSVEB009</td>\n",
       "      <td>Aegolius funereus</td>\n",
       "      <td>Birds</td>\n",
       "      <td>Invertebrates</td>\n",
       "      <td>Bryodemella</td>\n",
       "    </tr>\n",
       "    <tr>\n",
       "      <th>1</th>\n",
       "      <td>LTSVEB009</td>\n",
       "      <td>Aegolius funereus</td>\n",
       "      <td>Birds</td>\n",
       "      <td>Plants</td>\n",
       "      <td>Dianthus arenarius ssp. borusicus</td>\n",
       "    </tr>\n",
       "    <tr>\n",
       "      <th>2</th>\n",
       "      <td>LTSVEB009</td>\n",
       "      <td>Aegolius funereus</td>\n",
       "      <td>Birds</td>\n",
       "      <td>Invertebrates</td>\n",
       "      <td>Phengaris arion</td>\n",
       "    </tr>\n",
       "    <tr>\n",
       "      <th>3</th>\n",
       "      <td>LTSVEB009</td>\n",
       "      <td>Anthus campestris</td>\n",
       "      <td>Birds</td>\n",
       "      <td>Invertebrates</td>\n",
       "      <td>Bryodemella</td>\n",
       "    </tr>\n",
       "    <tr>\n",
       "      <th>4</th>\n",
       "      <td>LTSVEB009</td>\n",
       "      <td>Anthus campestris</td>\n",
       "      <td>Birds</td>\n",
       "      <td>Plants</td>\n",
       "      <td>Dianthus arenarius ssp. borusicus</td>\n",
       "    </tr>\n",
       "  </tbody>\n",
       "</table>\n",
       "</div>"
      ],
      "text/plain": [
       "    SITECODE        SPECIESNAME SPECIESGROUP OTHER_SPECIESGROUP  \\\n",
       "0  LTSVEB009  Aegolius funereus        Birds      Invertebrates   \n",
       "1  LTSVEB009  Aegolius funereus        Birds             Plants   \n",
       "2  LTSVEB009  Aegolius funereus        Birds      Invertebrates   \n",
       "3  LTSVEB009  Anthus campestris        Birds      Invertebrates   \n",
       "4  LTSVEB009  Anthus campestris        Birds             Plants   \n",
       "\n",
       "                   OTHER_SPECIESNAME  \n",
       "0                        Bryodemella  \n",
       "1  Dianthus arenarius ssp. borusicus  \n",
       "2                    Phengaris arion  \n",
       "3                        Bryodemella  \n",
       "4  Dianthus arenarius ssp. borusicus  "
      ]
     },
     "execution_count": 178,
     "metadata": {},
     "output_type": "execute_result"
    }
   ],
   "source": [
    "species = species.merge(other_species, on='SITECODE')\n",
    "species.head()"
   ]
  },
  {
   "cell_type": "code",
   "execution_count": 179,
   "id": "64029342",
   "metadata": {
    "scrolled": true
   },
   "outputs": [
    {
     "data": {
      "text/html": [
       "<div>\n",
       "<style scoped>\n",
       "    .dataframe tbody tr th:only-of-type {\n",
       "        vertical-align: middle;\n",
       "    }\n",
       "\n",
       "    .dataframe tbody tr th {\n",
       "        vertical-align: top;\n",
       "    }\n",
       "\n",
       "    .dataframe thead th {\n",
       "        text-align: right;\n",
       "    }\n",
       "</style>\n",
       "<table border=\"1\" class=\"dataframe\">\n",
       "  <thead>\n",
       "    <tr style=\"text-align: right;\">\n",
       "      <th></th>\n",
       "      <th>SITECODE</th>\n",
       "      <th>IMPACT_DESCRIPTION</th>\n",
       "      <th>MANAG_CONSERV_MEASURES</th>\n",
       "      <th>MANAG_PLAN</th>\n",
       "    </tr>\n",
       "  </thead>\n",
       "  <tbody>\n",
       "    <tr>\n",
       "      <th>0</th>\n",
       "      <td>LTKED0003</td>\n",
       "      <td>Sylviculture, forestry</td>\n",
       "      <td>NaN</td>\n",
       "      <td>NaN</td>\n",
       "    </tr>\n",
       "    <tr>\n",
       "      <th>1</th>\n",
       "      <td>LTKED0003</td>\n",
       "      <td>disposal of household / recreational facility ...</td>\n",
       "      <td>NaN</td>\n",
       "      <td>NaN</td>\n",
       "    </tr>\n",
       "    <tr>\n",
       "      <th>2</th>\n",
       "      <td>LTKED0003</td>\n",
       "      <td>invasive non-native species</td>\n",
       "      <td>NaN</td>\n",
       "      <td>NaN</td>\n",
       "    </tr>\n",
       "    <tr>\n",
       "      <th>3</th>\n",
       "      <td>IE0000397</td>\n",
       "      <td>Sand and gravel extraction</td>\n",
       "      <td>NaN</td>\n",
       "      <td>NaN</td>\n",
       "    </tr>\n",
       "    <tr>\n",
       "      <th>4</th>\n",
       "      <td>IE0000397</td>\n",
       "      <td>grazing</td>\n",
       "      <td>NaN</td>\n",
       "      <td>NaN</td>\n",
       "    </tr>\n",
       "  </tbody>\n",
       "</table>\n",
       "</div>"
      ],
      "text/plain": [
       "    SITECODE                                 IMPACT_DESCRIPTION  \\\n",
       "0  LTKED0003                             Sylviculture, forestry   \n",
       "1  LTKED0003  disposal of household / recreational facility ...   \n",
       "2  LTKED0003                        invasive non-native species   \n",
       "3  IE0000397                        Sand and gravel extraction    \n",
       "4  IE0000397                                            grazing   \n",
       "\n",
       "  MANAG_CONSERV_MEASURES MANAG_PLAN  \n",
       "0                    NaN        NaN  \n",
       "1                    NaN        NaN  \n",
       "2                    NaN        NaN  \n",
       "3                    NaN        NaN  \n",
       "4                    NaN        NaN  "
      ]
     },
     "execution_count": 179,
     "metadata": {},
     "output_type": "execute_result"
    }
   ],
   "source": [
    "impact_management = impact.merge(management, on='SITECODE')\n",
    "impact_management.head()"
   ]
  },
  {
   "cell_type": "markdown",
   "id": "bc3b9aeb",
   "metadata": {},
   "source": [
    "# Check unique values"
   ]
  },
  {
   "cell_type": "code",
   "execution_count": 180,
   "id": "fe4cc28c",
   "metadata": {},
   "outputs": [
    {
     "data": {
      "text/plain": [
       "1563"
      ]
     },
     "execution_count": 180,
     "metadata": {},
     "output_type": "execute_result"
    }
   ],
   "source": [
    "species.SPECIESNAME.nunique()"
   ]
  },
  {
   "cell_type": "code",
   "execution_count": 181,
   "id": "b48aab97",
   "metadata": {},
   "outputs": [],
   "source": [
    "# Dictionary mapping country codes to country names\n",
    "country_map = {\n",
    "    'FR': 'France', 'GR': 'Greece', 'HR': 'Croatia', 'ES': 'Spain', 'SE': 'Sweden',\n",
    "    'DK': 'Denmark', 'EE': 'Estonia', 'MT': 'Malta', 'HU': 'Hungary', 'NL': 'Netherlands',\n",
    "    'AT': 'Austria', 'BG': 'Bulgaria', 'FI': 'Finland', 'PL': 'Poland', 'PT': 'Portugal',\n",
    "    'LT': 'Lithuania', 'LU': 'Luxembourg', 'LV': 'Latvia', 'RO': 'Romania', 'IT': 'Italy',\n",
    "    'BE': 'Belgium', 'IE': 'Ireland', 'CZ': 'Czech Republic', 'CY': 'Cyprus', 'SI': 'Slovenia',\n",
    "    'SK': 'Slovakia', 'DE': 'Germany'\n",
    "}\n",
    "\n",
    "# Map the country codes to country names and create a new column\n",
    "bioregion['COUNTRY_NAME'] = bioregion['COUNTRY_CODE'].map(country_map)"
   ]
  },
  {
   "cell_type": "code",
   "execution_count": 182,
   "id": "86485802",
   "metadata": {},
   "outputs": [
    {
     "data": {
      "text/html": [
       "<div>\n",
       "<style scoped>\n",
       "    .dataframe tbody tr th:only-of-type {\n",
       "        vertical-align: middle;\n",
       "    }\n",
       "\n",
       "    .dataframe tbody tr th {\n",
       "        vertical-align: top;\n",
       "    }\n",
       "\n",
       "    .dataframe thead th {\n",
       "        text-align: right;\n",
       "    }\n",
       "</style>\n",
       "<table border=\"1\" class=\"dataframe\">\n",
       "  <thead>\n",
       "    <tr style=\"text-align: right;\">\n",
       "      <th></th>\n",
       "      <th>SITECODE</th>\n",
       "      <th>BIOREGION</th>\n",
       "      <th>COUNTRY_CODE</th>\n",
       "      <th>SITENAME</th>\n",
       "      <th>COUNTRY_NAME</th>\n",
       "    </tr>\n",
       "  </thead>\n",
       "  <tbody>\n",
       "    <tr>\n",
       "      <th>0</th>\n",
       "      <td>FR9101379</td>\n",
       "      <td>Mediterranean</td>\n",
       "      <td>FR</td>\n",
       "      <td>Causse Méjean</td>\n",
       "      <td>France</td>\n",
       "    </tr>\n",
       "    <tr>\n",
       "      <th>5</th>\n",
       "      <td>FR9101395</td>\n",
       "      <td>Mediterranean</td>\n",
       "      <td>FR</td>\n",
       "      <td>Le Gardon et ses gorges</td>\n",
       "      <td>France</td>\n",
       "    </tr>\n",
       "    <tr>\n",
       "      <th>15</th>\n",
       "      <td>FR9101413</td>\n",
       "      <td>Mediterranean</td>\n",
       "      <td>FR</td>\n",
       "      <td>Posidonies de la côte palavasienne</td>\n",
       "      <td>France</td>\n",
       "    </tr>\n",
       "    <tr>\n",
       "      <th>19</th>\n",
       "      <td>FR9101427</td>\n",
       "      <td>Mediterranean</td>\n",
       "      <td>FR</td>\n",
       "      <td>Grotte de Julio</td>\n",
       "      <td>France</td>\n",
       "    </tr>\n",
       "    <tr>\n",
       "      <th>23</th>\n",
       "      <td>FR9101430</td>\n",
       "      <td>Mediterranean</td>\n",
       "      <td>FR</td>\n",
       "      <td>Plateau de Roquehaute</td>\n",
       "      <td>France</td>\n",
       "    </tr>\n",
       "    <tr>\n",
       "      <th>...</th>\n",
       "      <td>...</td>\n",
       "      <td>...</td>\n",
       "      <td>...</td>\n",
       "      <td>...</td>\n",
       "      <td>...</td>\n",
       "    </tr>\n",
       "    <tr>\n",
       "      <th>169194</th>\n",
       "      <td>DE4405303</td>\n",
       "      <td>Atlantic</td>\n",
       "      <td>DE</td>\n",
       "      <td>NSG Rheinvorland im Orsoyer Rheinbogen, mit Er...</td>\n",
       "      <td>Germany</td>\n",
       "    </tr>\n",
       "    <tr>\n",
       "      <th>169197</th>\n",
       "      <td>DE4407301</td>\n",
       "      <td>Atlantic</td>\n",
       "      <td>DE</td>\n",
       "      <td>Kirchheller Heide und Hiesfelder Wald</td>\n",
       "      <td>Germany</td>\n",
       "    </tr>\n",
       "    <tr>\n",
       "      <th>169207</th>\n",
       "      <td>DE5107302</td>\n",
       "      <td>Atlantic</td>\n",
       "      <td>DE</td>\n",
       "      <td>Waldseenbereich Theresia</td>\n",
       "      <td>Germany</td>\n",
       "    </tr>\n",
       "    <tr>\n",
       "      <th>169208</th>\n",
       "      <td>DE5108301</td>\n",
       "      <td>Atlantic</td>\n",
       "      <td>DE</td>\n",
       "      <td>Wahner Heide</td>\n",
       "      <td>Germany</td>\n",
       "    </tr>\n",
       "    <tr>\n",
       "      <th>169224</th>\n",
       "      <td>DE5207301</td>\n",
       "      <td>Atlantic</td>\n",
       "      <td>DE</td>\n",
       "      <td>Waldville</td>\n",
       "      <td>Germany</td>\n",
       "    </tr>\n",
       "  </tbody>\n",
       "</table>\n",
       "<p>24332 rows × 5 columns</p>\n",
       "</div>"
      ],
      "text/plain": [
       "         SITECODE      BIOREGION COUNTRY_CODE  \\\n",
       "0       FR9101379  Mediterranean           FR   \n",
       "5       FR9101395  Mediterranean           FR   \n",
       "15      FR9101413  Mediterranean           FR   \n",
       "19      FR9101427  Mediterranean           FR   \n",
       "23      FR9101430  Mediterranean           FR   \n",
       "...           ...            ...          ...   \n",
       "169194  DE4405303       Atlantic           DE   \n",
       "169197  DE4407301       Atlantic           DE   \n",
       "169207  DE5107302       Atlantic           DE   \n",
       "169208  DE5108301       Atlantic           DE   \n",
       "169224  DE5207301       Atlantic           DE   \n",
       "\n",
       "                                                 SITENAME COUNTRY_NAME  \n",
       "0                                           Causse Méjean       France  \n",
       "5                                 Le Gardon et ses gorges       France  \n",
       "15                     Posidonies de la côte palavasienne       France  \n",
       "19                                        Grotte de Julio       France  \n",
       "23                                  Plateau de Roquehaute       France  \n",
       "...                                                   ...          ...  \n",
       "169194  NSG Rheinvorland im Orsoyer Rheinbogen, mit Er...      Germany  \n",
       "169197              Kirchheller Heide und Hiesfelder Wald      Germany  \n",
       "169207                           Waldseenbereich Theresia      Germany  \n",
       "169208                                       Wahner Heide      Germany  \n",
       "169224                                          Waldville      Germany  \n",
       "\n",
       "[24332 rows x 5 columns]"
      ]
     },
     "execution_count": 182,
     "metadata": {},
     "output_type": "execute_result"
    }
   ],
   "source": [
    "bioregion"
   ]
  },
  {
   "cell_type": "markdown",
   "id": "c66b063b",
   "metadata": {},
   "source": [
    "# Write new file"
   ]
  },
  {
   "cell_type": "code",
   "execution_count": 183,
   "id": "46f2112e",
   "metadata": {},
   "outputs": [],
   "source": [
    "bioregion.to_csv('../raw_data/pa_infos_csv/new_csvs/bioregion.csv', index=False)"
   ]
  },
  {
   "cell_type": "code",
   "execution_count": 184,
   "id": "92a0f8ed",
   "metadata": {},
   "outputs": [],
   "source": [
    "species.to_csv('../raw_data/pa_infos_csv/new_csvs/species.csv', index=False)"
   ]
  },
  {
   "cell_type": "code",
   "execution_count": 185,
   "id": "8f8f8427",
   "metadata": {},
   "outputs": [],
   "source": [
    "impact_management.to_csv('../raw_data/pa_infos_csv/new_csvs/impact_management.csv', index=False)"
   ]
  },
  {
   "cell_type": "code",
   "execution_count": 195,
   "id": "dea9f15c",
   "metadata": {},
   "outputs": [],
   "source": [
    "habitat_class.to_csv('../raw_data/pa_infos_csv/new_csvs/habitat_class.csv', index=False)"
   ]
  },
  {
   "cell_type": "code",
   "execution_count": 187,
   "id": "6d610582",
   "metadata": {},
   "outputs": [],
   "source": [
    "bioregion = pd.read_csv('../raw_data/pa_infos_csv/new_csvs/bioregion.csv', sep=',')\n",
    "impact_management = pd.read_csv('../raw_data/pa_infos_csv/new_csvs/impact_management.csv', sep=',')\n",
    "species = pd.read_csv('../raw_data/pa_infos_csv/new_csvs/species.csv', sep=',')\n",
    "habitat_class = pd.read_csv('../raw_data/pa_infos_csv/new_csvs/habitat_class.csv', sep=',')"
   ]
  },
  {
   "cell_type": "code",
   "execution_count": 188,
   "id": "9b3fe228",
   "metadata": {},
   "outputs": [
    {
     "data": {
      "text/html": [
       "<div>\n",
       "<style scoped>\n",
       "    .dataframe tbody tr th:only-of-type {\n",
       "        vertical-align: middle;\n",
       "    }\n",
       "\n",
       "    .dataframe tbody tr th {\n",
       "        vertical-align: top;\n",
       "    }\n",
       "\n",
       "    .dataframe thead th {\n",
       "        text-align: right;\n",
       "    }\n",
       "</style>\n",
       "<table border=\"1\" class=\"dataframe\">\n",
       "  <thead>\n",
       "    <tr style=\"text-align: right;\">\n",
       "      <th></th>\n",
       "      <th>SITECODE</th>\n",
       "      <th>BIOREGION</th>\n",
       "      <th>COUNTRY_CODE</th>\n",
       "      <th>SITENAME</th>\n",
       "      <th>COUNTRY_NAME</th>\n",
       "    </tr>\n",
       "  </thead>\n",
       "  <tbody>\n",
       "    <tr>\n",
       "      <th>0</th>\n",
       "      <td>FR9101379</td>\n",
       "      <td>Mediterranean</td>\n",
       "      <td>FR</td>\n",
       "      <td>Causse Méjean</td>\n",
       "      <td>France</td>\n",
       "    </tr>\n",
       "    <tr>\n",
       "      <th>1</th>\n",
       "      <td>FR9101395</td>\n",
       "      <td>Mediterranean</td>\n",
       "      <td>FR</td>\n",
       "      <td>Le Gardon et ses gorges</td>\n",
       "      <td>France</td>\n",
       "    </tr>\n",
       "    <tr>\n",
       "      <th>2</th>\n",
       "      <td>FR9101413</td>\n",
       "      <td>Mediterranean</td>\n",
       "      <td>FR</td>\n",
       "      <td>Posidonies de la côte palavasienne</td>\n",
       "      <td>France</td>\n",
       "    </tr>\n",
       "    <tr>\n",
       "      <th>3</th>\n",
       "      <td>FR9101427</td>\n",
       "      <td>Mediterranean</td>\n",
       "      <td>FR</td>\n",
       "      <td>Grotte de Julio</td>\n",
       "      <td>France</td>\n",
       "    </tr>\n",
       "    <tr>\n",
       "      <th>4</th>\n",
       "      <td>FR9101430</td>\n",
       "      <td>Mediterranean</td>\n",
       "      <td>FR</td>\n",
       "      <td>Plateau de Roquehaute</td>\n",
       "      <td>France</td>\n",
       "    </tr>\n",
       "    <tr>\n",
       "      <th>...</th>\n",
       "      <td>...</td>\n",
       "      <td>...</td>\n",
       "      <td>...</td>\n",
       "      <td>...</td>\n",
       "      <td>...</td>\n",
       "    </tr>\n",
       "    <tr>\n",
       "      <th>24327</th>\n",
       "      <td>DE4405303</td>\n",
       "      <td>Atlantic</td>\n",
       "      <td>DE</td>\n",
       "      <td>NSG Rheinvorland im Orsoyer Rheinbogen, mit Er...</td>\n",
       "      <td>Germany</td>\n",
       "    </tr>\n",
       "    <tr>\n",
       "      <th>24328</th>\n",
       "      <td>DE4407301</td>\n",
       "      <td>Atlantic</td>\n",
       "      <td>DE</td>\n",
       "      <td>Kirchheller Heide und Hiesfelder Wald</td>\n",
       "      <td>Germany</td>\n",
       "    </tr>\n",
       "    <tr>\n",
       "      <th>24329</th>\n",
       "      <td>DE5107302</td>\n",
       "      <td>Atlantic</td>\n",
       "      <td>DE</td>\n",
       "      <td>Waldseenbereich Theresia</td>\n",
       "      <td>Germany</td>\n",
       "    </tr>\n",
       "    <tr>\n",
       "      <th>24330</th>\n",
       "      <td>DE5108301</td>\n",
       "      <td>Atlantic</td>\n",
       "      <td>DE</td>\n",
       "      <td>Wahner Heide</td>\n",
       "      <td>Germany</td>\n",
       "    </tr>\n",
       "    <tr>\n",
       "      <th>24331</th>\n",
       "      <td>DE5207301</td>\n",
       "      <td>Atlantic</td>\n",
       "      <td>DE</td>\n",
       "      <td>Waldville</td>\n",
       "      <td>Germany</td>\n",
       "    </tr>\n",
       "  </tbody>\n",
       "</table>\n",
       "<p>24332 rows × 5 columns</p>\n",
       "</div>"
      ],
      "text/plain": [
       "        SITECODE      BIOREGION COUNTRY_CODE  \\\n",
       "0      FR9101379  Mediterranean           FR   \n",
       "1      FR9101395  Mediterranean           FR   \n",
       "2      FR9101413  Mediterranean           FR   \n",
       "3      FR9101427  Mediterranean           FR   \n",
       "4      FR9101430  Mediterranean           FR   \n",
       "...          ...            ...          ...   \n",
       "24327  DE4405303       Atlantic           DE   \n",
       "24328  DE4407301       Atlantic           DE   \n",
       "24329  DE5107302       Atlantic           DE   \n",
       "24330  DE5108301       Atlantic           DE   \n",
       "24331  DE5207301       Atlantic           DE   \n",
       "\n",
       "                                                SITENAME COUNTRY_NAME  \n",
       "0                                          Causse Méjean       France  \n",
       "1                                Le Gardon et ses gorges       France  \n",
       "2                     Posidonies de la côte palavasienne       France  \n",
       "3                                        Grotte de Julio       France  \n",
       "4                                  Plateau de Roquehaute       France  \n",
       "...                                                  ...          ...  \n",
       "24327  NSG Rheinvorland im Orsoyer Rheinbogen, mit Er...      Germany  \n",
       "24328              Kirchheller Heide und Hiesfelder Wald      Germany  \n",
       "24329                           Waldseenbereich Theresia      Germany  \n",
       "24330                                       Wahner Heide      Germany  \n",
       "24331                                          Waldville      Germany  \n",
       "\n",
       "[24332 rows x 5 columns]"
      ]
     },
     "execution_count": 188,
     "metadata": {},
     "output_type": "execute_result"
    }
   ],
   "source": [
    "bioregion"
   ]
  },
  {
   "cell_type": "code",
   "execution_count": 189,
   "id": "09ccafc3",
   "metadata": {},
   "outputs": [
    {
     "data": {
      "text/plain": [
       "array(['FR', 'GR', 'HR', 'ES', 'SE', 'DK', 'EE', 'MT', 'HU', 'NL', 'AT',\n",
       "       'BG', 'FI', 'PL', 'PT', 'LT', 'LU', 'LV', 'RO', 'IT', 'BE', 'IE',\n",
       "       'CZ', 'CY', 'SI', 'SK', 'DE'], dtype=object)"
      ]
     },
     "execution_count": 189,
     "metadata": {},
     "output_type": "execute_result"
    }
   ],
   "source": [
    "bioregion['COUNTRY_CODE'].unique()"
   ]
  },
  {
   "cell_type": "code",
   "execution_count": 196,
   "id": "75a83ca7",
   "metadata": {},
   "outputs": [
    {
     "data": {
      "text/html": [
       "<div>\n",
       "<style scoped>\n",
       "    .dataframe tbody tr th:only-of-type {\n",
       "        vertical-align: middle;\n",
       "    }\n",
       "\n",
       "    .dataframe tbody tr th {\n",
       "        vertical-align: top;\n",
       "    }\n",
       "\n",
       "    .dataframe thead th {\n",
       "        text-align: right;\n",
       "    }\n",
       "</style>\n",
       "<table border=\"1\" class=\"dataframe\">\n",
       "  <thead>\n",
       "    <tr style=\"text-align: right;\">\n",
       "      <th></th>\n",
       "      <th>SITECODE</th>\n",
       "      <th>HABITAT_DESCRIPTION</th>\n",
       "    </tr>\n",
       "  </thead>\n",
       "  <tbody>\n",
       "    <tr>\n",
       "      <th>0</th>\n",
       "      <td>HUKN30002</td>\n",
       "      <td>Pannonic salt steppes and salt marshes</td>\n",
       "    </tr>\n",
       "    <tr>\n",
       "      <th>1</th>\n",
       "      <td>LTPRI0014</td>\n",
       "      <td>Inland dunes with open Corynephorus and Agrost...</td>\n",
       "    </tr>\n",
       "    <tr>\n",
       "      <th>2</th>\n",
       "      <td>LTPRI0014</td>\n",
       "      <td>Western Taïga</td>\n",
       "    </tr>\n",
       "    <tr>\n",
       "      <th>3</th>\n",
       "      <td>LTPRI0014</td>\n",
       "      <td>Fennoscandian herb-rich forests with Picea abies</td>\n",
       "    </tr>\n",
       "    <tr>\n",
       "      <th>4</th>\n",
       "      <td>LTPRI0014</td>\n",
       "      <td>Sub-Atlantic and medio-European oak or oak-hor...</td>\n",
       "    </tr>\n",
       "  </tbody>\n",
       "</table>\n",
       "</div>"
      ],
      "text/plain": [
       "    SITECODE                                HABITAT_DESCRIPTION\n",
       "0  HUKN30002             Pannonic salt steppes and salt marshes\n",
       "1  LTPRI0014  Inland dunes with open Corynephorus and Agrost...\n",
       "2  LTPRI0014                                      Western Taïga\n",
       "3  LTPRI0014   Fennoscandian herb-rich forests with Picea abies\n",
       "4  LTPRI0014  Sub-Atlantic and medio-European oak or oak-hor..."
      ]
     },
     "execution_count": 196,
     "metadata": {},
     "output_type": "execute_result"
    }
   ],
   "source": [
    "habitat_class.head()"
   ]
  },
  {
   "cell_type": "code",
   "execution_count": 153,
   "id": "f8d120a4",
   "metadata": {},
   "outputs": [
    {
     "data": {
      "text/html": [
       "<div>\n",
       "<style scoped>\n",
       "    .dataframe tbody tr th:only-of-type {\n",
       "        vertical-align: middle;\n",
       "    }\n",
       "\n",
       "    .dataframe tbody tr th {\n",
       "        vertical-align: top;\n",
       "    }\n",
       "\n",
       "    .dataframe thead th {\n",
       "        text-align: right;\n",
       "    }\n",
       "</style>\n",
       "<table border=\"1\" class=\"dataframe\">\n",
       "  <thead>\n",
       "    <tr style=\"text-align: right;\">\n",
       "      <th></th>\n",
       "      <th>SITECODE</th>\n",
       "      <th>BIOREGION</th>\n",
       "      <th>COUNTRY_CODE</th>\n",
       "      <th>COUNTRY_NAME</th>\n",
       "    </tr>\n",
       "  </thead>\n",
       "  <tbody>\n",
       "    <tr>\n",
       "      <th>0</th>\n",
       "      <td>FR9101379</td>\n",
       "      <td>Mediterranean</td>\n",
       "      <td>FR</td>\n",
       "      <td>France</td>\n",
       "    </tr>\n",
       "    <tr>\n",
       "      <th>1</th>\n",
       "      <td>FR9101379</td>\n",
       "      <td>Mediterranean</td>\n",
       "      <td>FR</td>\n",
       "      <td>France</td>\n",
       "    </tr>\n",
       "    <tr>\n",
       "      <th>2</th>\n",
       "      <td>FR9101379</td>\n",
       "      <td>Mediterranean</td>\n",
       "      <td>FR</td>\n",
       "      <td>France</td>\n",
       "    </tr>\n",
       "    <tr>\n",
       "      <th>3</th>\n",
       "      <td>FR9101379</td>\n",
       "      <td>Mediterranean</td>\n",
       "      <td>FR</td>\n",
       "      <td>France</td>\n",
       "    </tr>\n",
       "    <tr>\n",
       "      <th>4</th>\n",
       "      <td>FR9101379</td>\n",
       "      <td>Mediterranean</td>\n",
       "      <td>FR</td>\n",
       "      <td>France</td>\n",
       "    </tr>\n",
       "    <tr>\n",
       "      <th>...</th>\n",
       "      <td>...</td>\n",
       "      <td>...</td>\n",
       "      <td>...</td>\n",
       "      <td>...</td>\n",
       "    </tr>\n",
       "    <tr>\n",
       "      <th>169222</th>\n",
       "      <td>DE5108301</td>\n",
       "      <td>Atlantic</td>\n",
       "      <td>DE</td>\n",
       "      <td>Germany</td>\n",
       "    </tr>\n",
       "    <tr>\n",
       "      <th>169223</th>\n",
       "      <td>DE5108301</td>\n",
       "      <td>Atlantic</td>\n",
       "      <td>DE</td>\n",
       "      <td>Germany</td>\n",
       "    </tr>\n",
       "    <tr>\n",
       "      <th>169224</th>\n",
       "      <td>DE5207301</td>\n",
       "      <td>Atlantic</td>\n",
       "      <td>DE</td>\n",
       "      <td>Germany</td>\n",
       "    </tr>\n",
       "    <tr>\n",
       "      <th>169225</th>\n",
       "      <td>DE5207301</td>\n",
       "      <td>Atlantic</td>\n",
       "      <td>DE</td>\n",
       "      <td>Germany</td>\n",
       "    </tr>\n",
       "    <tr>\n",
       "      <th>169226</th>\n",
       "      <td>DE5207301</td>\n",
       "      <td>Atlantic</td>\n",
       "      <td>DE</td>\n",
       "      <td>Germany</td>\n",
       "    </tr>\n",
       "  </tbody>\n",
       "</table>\n",
       "<p>169227 rows × 4 columns</p>\n",
       "</div>"
      ],
      "text/plain": [
       "         SITECODE      BIOREGION COUNTRY_CODE COUNTRY_NAME\n",
       "0       FR9101379  Mediterranean           FR       France\n",
       "1       FR9101379  Mediterranean           FR       France\n",
       "2       FR9101379  Mediterranean           FR       France\n",
       "3       FR9101379  Mediterranean           FR       France\n",
       "4       FR9101379  Mediterranean           FR       France\n",
       "...           ...            ...          ...          ...\n",
       "169222  DE5108301       Atlantic           DE      Germany\n",
       "169223  DE5108301       Atlantic           DE      Germany\n",
       "169224  DE5207301       Atlantic           DE      Germany\n",
       "169225  DE5207301       Atlantic           DE      Germany\n",
       "169226  DE5207301       Atlantic           DE      Germany\n",
       "\n",
       "[169227 rows x 4 columns]"
      ]
     },
     "execution_count": 153,
     "metadata": {},
     "output_type": "execute_result"
    }
   ],
   "source": [
    "bioregion"
   ]
  },
  {
   "cell_type": "code",
   "execution_count": 131,
   "id": "4414525a",
   "metadata": {},
   "outputs": [
    {
     "data": {
      "text/plain": [
       "22822"
      ]
     },
     "execution_count": 131,
     "metadata": {},
     "output_type": "execute_result"
    }
   ],
   "source": [
    "bioregion.SITECODE.nunique()"
   ]
  },
  {
   "cell_type": "code",
   "execution_count": 132,
   "id": "6da03943",
   "metadata": {},
   "outputs": [],
   "source": [
    "df = pd.read_csv('../raw_data/final_data_2015_2035.csv')"
   ]
  },
  {
   "cell_type": "code",
   "execution_count": 133,
   "id": "78530255",
   "metadata": {},
   "outputs": [],
   "source": [
    "sitecodes_df = df.SITECODE.unique()"
   ]
  },
  {
   "cell_type": "code",
   "execution_count": 134,
   "id": "dc5dbded",
   "metadata": {},
   "outputs": [
    {
     "data": {
      "text/plain": [
       "624"
      ]
     },
     "execution_count": 134,
     "metadata": {},
     "output_type": "execute_result"
    }
   ],
   "source": [
    "len(sitecodes_df)"
   ]
  },
  {
   "cell_type": "code",
   "execution_count": 135,
   "id": "4c69c0d9",
   "metadata": {},
   "outputs": [],
   "source": [
    "bioregion_sitecode = bioregion[bioregion['SITECODE'].isin(df['SITECODE'])]"
   ]
  },
  {
   "cell_type": "code",
   "execution_count": 137,
   "id": "06c886ba",
   "metadata": {},
   "outputs": [
    {
     "data": {
      "text/html": [
       "<div>\n",
       "<style scoped>\n",
       "    .dataframe tbody tr th:only-of-type {\n",
       "        vertical-align: middle;\n",
       "    }\n",
       "\n",
       "    .dataframe tbody tr th {\n",
       "        vertical-align: top;\n",
       "    }\n",
       "\n",
       "    .dataframe thead th {\n",
       "        text-align: right;\n",
       "    }\n",
       "</style>\n",
       "<table border=\"1\" class=\"dataframe\">\n",
       "  <thead>\n",
       "    <tr style=\"text-align: right;\">\n",
       "      <th></th>\n",
       "      <th>SITECODE</th>\n",
       "      <th>BIOREGION</th>\n",
       "      <th>COUNTRY_CODE</th>\n",
       "    </tr>\n",
       "  </thead>\n",
       "  <tbody>\n",
       "    <tr>\n",
       "      <th>337</th>\n",
       "      <td>GR1220005</td>\n",
       "      <td>Mediterranean</td>\n",
       "      <td>GR</td>\n",
       "    </tr>\n",
       "    <tr>\n",
       "      <th>338</th>\n",
       "      <td>GR1220005</td>\n",
       "      <td>Mediterranean</td>\n",
       "      <td>GR</td>\n",
       "    </tr>\n",
       "    <tr>\n",
       "      <th>339</th>\n",
       "      <td>GR1220005</td>\n",
       "      <td>Mediterranean</td>\n",
       "      <td>GR</td>\n",
       "    </tr>\n",
       "    <tr>\n",
       "      <th>340</th>\n",
       "      <td>GR1220005</td>\n",
       "      <td>Mediterranean</td>\n",
       "      <td>GR</td>\n",
       "    </tr>\n",
       "    <tr>\n",
       "      <th>341</th>\n",
       "      <td>GR1220005</td>\n",
       "      <td>Mediterranean</td>\n",
       "      <td>GR</td>\n",
       "    </tr>\n",
       "    <tr>\n",
       "      <th>...</th>\n",
       "      <td>...</td>\n",
       "      <td>...</td>\n",
       "      <td>...</td>\n",
       "    </tr>\n",
       "    <tr>\n",
       "      <th>167554</th>\n",
       "      <td>DE2226302</td>\n",
       "      <td>Atlantic</td>\n",
       "      <td>DE</td>\n",
       "    </tr>\n",
       "    <tr>\n",
       "      <th>167555</th>\n",
       "      <td>DE2226302</td>\n",
       "      <td>Atlantic</td>\n",
       "      <td>DE</td>\n",
       "    </tr>\n",
       "    <tr>\n",
       "      <th>167556</th>\n",
       "      <td>DE2226302</td>\n",
       "      <td>Atlantic</td>\n",
       "      <td>DE</td>\n",
       "    </tr>\n",
       "    <tr>\n",
       "      <th>168113</th>\n",
       "      <td>DE2507301</td>\n",
       "      <td>Atlantic</td>\n",
       "      <td>DE</td>\n",
       "    </tr>\n",
       "    <tr>\n",
       "      <th>168114</th>\n",
       "      <td>DE2507301</td>\n",
       "      <td>Atlantic</td>\n",
       "      <td>DE</td>\n",
       "    </tr>\n",
       "  </tbody>\n",
       "</table>\n",
       "<p>6020 rows × 3 columns</p>\n",
       "</div>"
      ],
      "text/plain": [
       "         SITECODE      BIOREGION COUNTRY_CODE\n",
       "337     GR1220005  Mediterranean           GR\n",
       "338     GR1220005  Mediterranean           GR\n",
       "339     GR1220005  Mediterranean           GR\n",
       "340     GR1220005  Mediterranean           GR\n",
       "341     GR1220005  Mediterranean           GR\n",
       "...           ...            ...          ...\n",
       "167554  DE2226302       Atlantic           DE\n",
       "167555  DE2226302       Atlantic           DE\n",
       "167556  DE2226302       Atlantic           DE\n",
       "168113  DE2507301       Atlantic           DE\n",
       "168114  DE2507301       Atlantic           DE\n",
       "\n",
       "[6020 rows x 3 columns]"
      ]
     },
     "execution_count": 137,
     "metadata": {},
     "output_type": "execute_result"
    }
   ],
   "source": [
    "bioregion_sitecode"
   ]
  },
  {
   "cell_type": "code",
   "execution_count": 138,
   "id": "83d2e576",
   "metadata": {},
   "outputs": [
    {
     "data": {
      "text/plain": [
       "622"
      ]
     },
     "execution_count": 138,
     "metadata": {},
     "output_type": "execute_result"
    }
   ],
   "source": [
    "bioregion_sitecode.SITECODE.nunique()"
   ]
  },
  {
   "cell_type": "code",
   "execution_count": 143,
   "id": "369e22fc",
   "metadata": {},
   "outputs": [
    {
     "data": {
      "text/plain": [
       "array(['Atlantic'], dtype=object)"
      ]
     },
     "execution_count": 143,
     "metadata": {},
     "output_type": "execute_result"
    }
   ],
   "source": [
    "bioregion_sample = bioregion_sitecode[(bioregion_sitecode['BIOREGION'] == selected_bioregion)]\n",
    "bioregion_sample.BIOREGION.unique()"
   ]
  },
  {
   "cell_type": "code",
   "execution_count": 141,
   "id": "a7db9db5",
   "metadata": {},
   "outputs": [
    {
     "data": {
      "text/html": [
       "<div>\n",
       "<style scoped>\n",
       "    .dataframe tbody tr th:only-of-type {\n",
       "        vertical-align: middle;\n",
       "    }\n",
       "\n",
       "    .dataframe tbody tr th {\n",
       "        vertical-align: top;\n",
       "    }\n",
       "\n",
       "    .dataframe thead th {\n",
       "        text-align: right;\n",
       "    }\n",
       "</style>\n",
       "<table border=\"1\" class=\"dataframe\">\n",
       "  <thead>\n",
       "    <tr style=\"text-align: right;\">\n",
       "      <th></th>\n",
       "      <th>SITECODE</th>\n",
       "      <th>BIOREGION</th>\n",
       "      <th>COUNTRY_CODE</th>\n",
       "    </tr>\n",
       "  </thead>\n",
       "  <tbody>\n",
       "    <tr>\n",
       "      <th>337</th>\n",
       "      <td>GR1220005</td>\n",
       "      <td>Mediterranean</td>\n",
       "      <td>GR</td>\n",
       "    </tr>\n",
       "    <tr>\n",
       "      <th>338</th>\n",
       "      <td>GR1220005</td>\n",
       "      <td>Mediterranean</td>\n",
       "      <td>GR</td>\n",
       "    </tr>\n",
       "    <tr>\n",
       "      <th>339</th>\n",
       "      <td>GR1220005</td>\n",
       "      <td>Mediterranean</td>\n",
       "      <td>GR</td>\n",
       "    </tr>\n",
       "    <tr>\n",
       "      <th>340</th>\n",
       "      <td>GR1220005</td>\n",
       "      <td>Mediterranean</td>\n",
       "      <td>GR</td>\n",
       "    </tr>\n",
       "    <tr>\n",
       "      <th>341</th>\n",
       "      <td>GR1220005</td>\n",
       "      <td>Mediterranean</td>\n",
       "      <td>GR</td>\n",
       "    </tr>\n",
       "  </tbody>\n",
       "</table>\n",
       "</div>"
      ],
      "text/plain": [
       "      SITECODE      BIOREGION COUNTRY_CODE\n",
       "337  GR1220005  Mediterranean           GR\n",
       "338  GR1220005  Mediterranean           GR\n",
       "339  GR1220005  Mediterranean           GR\n",
       "340  GR1220005  Mediterranean           GR\n",
       "341  GR1220005  Mediterranean           GR"
      ]
     },
     "execution_count": 141,
     "metadata": {},
     "output_type": "execute_result"
    }
   ],
   "source": [
    "bioregion_sitecode.head()"
   ]
  },
  {
   "cell_type": "code",
   "execution_count": 145,
   "id": "3e799abc",
   "metadata": {},
   "outputs": [
    {
     "data": {
      "text/plain": [
       "'DK00EX017'"
      ]
     },
     "execution_count": 145,
     "metadata": {},
     "output_type": "execute_result"
    }
   ],
   "source": [
    "bioregion_sample.SITECODE.unique()[0]"
   ]
  },
  {
   "cell_type": "code",
   "execution_count": 149,
   "id": "3939f85d",
   "metadata": {},
   "outputs": [],
   "source": [
    "sitecodes = bioregion_sample.SITECODE.unique()\n",
    "default_sitecode = sitecodes[0]"
   ]
  },
  {
   "cell_type": "code",
   "execution_count": 150,
   "id": "8e4fed68",
   "metadata": {},
   "outputs": [
    {
     "data": {
      "text/plain": [
       "'DK00EX017'"
      ]
     },
     "execution_count": 150,
     "metadata": {},
     "output_type": "execute_result"
    }
   ],
   "source": [
    "default_sitecode"
   ]
  },
  {
   "cell_type": "code",
   "execution_count": 190,
   "id": "cd5116bd",
   "metadata": {},
   "outputs": [],
   "source": [
    "selected_sitecode = 'Causse Méjean'"
   ]
  },
  {
   "cell_type": "code",
   "execution_count": 194,
   "id": "166c3953",
   "metadata": {},
   "outputs": [
    {
     "data": {
      "text/plain": [
       "'FR9101379'"
      ]
     },
     "execution_count": 194,
     "metadata": {},
     "output_type": "execute_result"
    }
   ],
   "source": [
    "bioregion[(bioregion['SITENAME'] == selected_sitecode)]['SITECODE'].values[0]"
   ]
  },
  {
   "cell_type": "code",
   "execution_count": null,
   "id": "dc83ad43",
   "metadata": {},
   "outputs": [],
   "source": []
  }
 ],
 "metadata": {
  "kernelspec": {
   "display_name": "Python 3 (ipykernel)",
   "language": "python",
   "name": "python3"
  },
  "language_info": {
   "codemirror_mode": {
    "name": "ipython",
    "version": 3
   },
   "file_extension": ".py",
   "mimetype": "text/x-python",
   "name": "python",
   "nbconvert_exporter": "python",
   "pygments_lexer": "ipython3",
   "version": "3.10.6"
  },
  "toc": {
   "base_numbering": 1,
   "nav_menu": {},
   "number_sections": true,
   "sideBar": true,
   "skip_h1_title": false,
   "title_cell": "Table of Contents",
   "title_sidebar": "Contents",
   "toc_cell": false,
   "toc_position": {},
   "toc_section_display": true,
   "toc_window_display": false
  }
 },
 "nbformat": 4,
 "nbformat_minor": 5
}
