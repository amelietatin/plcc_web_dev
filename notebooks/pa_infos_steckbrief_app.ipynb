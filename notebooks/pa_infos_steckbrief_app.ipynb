{
 "cells": [
  {
   "cell_type": "markdown",
   "id": "0824d0ba",
   "metadata": {},
   "source": [
    "# Packages"
   ]
  },
  {
   "cell_type": "code",
   "execution_count": 2,
   "id": "b96948e1",
   "metadata": {},
   "outputs": [],
   "source": [
    "import pandas as pd"
   ]
  },
  {
   "cell_type": "markdown",
   "id": "7eb93f37",
   "metadata": {},
   "source": [
    "# Open data"
   ]
  },
  {
   "cell_type": "code",
   "execution_count": 2,
   "id": "94701859",
   "metadata": {
    "scrolled": true
   },
   "outputs": [
    {
     "data": {
      "text/plain": [
       "'/Users/amelietatin/code/amelietatin/plcc_web_dev/plcc_web_dev/notebooks'"
      ]
     },
     "execution_count": 2,
     "metadata": {},
     "output_type": "execute_result"
    }
   ],
   "source": [
    "pwd"
   ]
  },
  {
   "cell_type": "code",
   "execution_count": 266,
   "id": "31985674",
   "metadata": {},
   "outputs": [],
   "source": [
    "sitenames = pd.read_csv('../raw_data/pa_infos_csv/Natura2000_end2022_NATURA2000SITES.csv', sep=',')\n",
    "bioregion = pd.read_csv('../raw_data/pa_infos_csv/Natura2000_end2022_BIOREGION.csv', sep=',')\n",
    "species = pd.read_csv('../raw_data/pa_infos_csv/Natura2000_end2022_SPECIES.csv', sep=',')\n",
    "other_species = pd.read_csv('../raw_data/pa_infos_csv/Natura2000_end2022_OTHERSPECIES.csv', sep=',')\n",
    "habitats = pd.read_csv('../raw_data/pa_infos_csv/Natura2000_end2022_HABITATS.csv', sep=',')\n",
    "impact = pd.read_csv('../raw_data/pa_infos_csv/Natura2000_end2022_IMPACT.csv', sep=',')\n",
    "management = pd.read_csv('../raw_data/pa_infos_csv/Natura2000_end2022_MANAGEMENT.csv', sep=',')"
   ]
  },
  {
   "cell_type": "code",
   "execution_count": 267,
   "id": "690a7744",
   "metadata": {},
   "outputs": [],
   "source": [
    "df = pd.read_csv('../raw_data/final_table_no_negative.csv')"
   ]
  },
  {
   "cell_type": "code",
   "execution_count": 268,
   "id": "3dc4f0e2",
   "metadata": {},
   "outputs": [],
   "source": [
    "sitecodes_unique = df.SITECODE.unique()"
   ]
  },
  {
   "cell_type": "markdown",
   "id": "b75167ef",
   "metadata": {},
   "source": [
    "# Selecting columns"
   ]
  },
  {
   "cell_type": "code",
   "execution_count": 269,
   "id": "483e89db",
   "metadata": {},
   "outputs": [],
   "source": [
    "sitenames = sitenames[['SITECODE', 'SITENAME']]"
   ]
  },
  {
   "cell_type": "code",
   "execution_count": 270,
   "id": "2164e69d",
   "metadata": {},
   "outputs": [],
   "source": [
    "bioregion = bioregion[['SITECODE', 'BIOGEOGRAPHICREG']]\n",
    "bioregion.columns = ['SITECODE', 'BIOREGION']"
   ]
  },
  {
   "cell_type": "code",
   "execution_count": 271,
   "id": "92e845e6",
   "metadata": {},
   "outputs": [
    {
     "data": {
      "text/plain": [
       "27193"
      ]
     },
     "execution_count": 271,
     "metadata": {},
     "output_type": "execute_result"
    }
   ],
   "source": [
    "bioregion.SITECODE.nunique()"
   ]
  },
  {
   "cell_type": "code",
   "execution_count": 272,
   "id": "f444b330",
   "metadata": {},
   "outputs": [
    {
     "data": {
      "text/html": [
       "<div>\n",
       "<style scoped>\n",
       "    .dataframe tbody tr th:only-of-type {\n",
       "        vertical-align: middle;\n",
       "    }\n",
       "\n",
       "    .dataframe tbody tr th {\n",
       "        vertical-align: top;\n",
       "    }\n",
       "\n",
       "    .dataframe thead th {\n",
       "        text-align: right;\n",
       "    }\n",
       "</style>\n",
       "<table border=\"1\" class=\"dataframe\">\n",
       "  <thead>\n",
       "    <tr style=\"text-align: right;\">\n",
       "      <th></th>\n",
       "      <th>SITECODE</th>\n",
       "      <th>COUNTRY_CODE</th>\n",
       "    </tr>\n",
       "  </thead>\n",
       "  <tbody>\n",
       "    <tr>\n",
       "      <th>0</th>\n",
       "      <td>HUKN30002</td>\n",
       "      <td>HU</td>\n",
       "    </tr>\n",
       "    <tr>\n",
       "      <th>1</th>\n",
       "      <td>LTPRI0014</td>\n",
       "      <td>LT</td>\n",
       "    </tr>\n",
       "    <tr>\n",
       "      <th>2</th>\n",
       "      <td>LTPRI0014</td>\n",
       "      <td>LT</td>\n",
       "    </tr>\n",
       "    <tr>\n",
       "      <th>3</th>\n",
       "      <td>LTPRI0014</td>\n",
       "      <td>LT</td>\n",
       "    </tr>\n",
       "    <tr>\n",
       "      <th>4</th>\n",
       "      <td>LTPRI0014</td>\n",
       "      <td>LT</td>\n",
       "    </tr>\n",
       "    <tr>\n",
       "      <th>...</th>\n",
       "      <td>...</td>\n",
       "      <td>...</td>\n",
       "    </tr>\n",
       "    <tr>\n",
       "      <th>152798</th>\n",
       "      <td>DE2721301</td>\n",
       "      <td>DE</td>\n",
       "    </tr>\n",
       "    <tr>\n",
       "      <th>152799</th>\n",
       "      <td>DE2721301</td>\n",
       "      <td>DE</td>\n",
       "    </tr>\n",
       "    <tr>\n",
       "      <th>152800</th>\n",
       "      <td>DE2721301</td>\n",
       "      <td>DE</td>\n",
       "    </tr>\n",
       "    <tr>\n",
       "      <th>152801</th>\n",
       "      <td>DE2928331</td>\n",
       "      <td>DE</td>\n",
       "    </tr>\n",
       "    <tr>\n",
       "      <th>152802</th>\n",
       "      <td>DE2928331</td>\n",
       "      <td>DE</td>\n",
       "    </tr>\n",
       "  </tbody>\n",
       "</table>\n",
       "<p>152803 rows × 2 columns</p>\n",
       "</div>"
      ],
      "text/plain": [
       "         SITECODE COUNTRY_CODE\n",
       "0       HUKN30002           HU\n",
       "1       LTPRI0014           LT\n",
       "2       LTPRI0014           LT\n",
       "3       LTPRI0014           LT\n",
       "4       LTPRI0014           LT\n",
       "...           ...          ...\n",
       "152798  DE2721301           DE\n",
       "152799  DE2721301           DE\n",
       "152800  DE2721301           DE\n",
       "152801  DE2928331           DE\n",
       "152802  DE2928331           DE\n",
       "\n",
       "[152803 rows x 2 columns]"
      ]
     },
     "execution_count": 272,
     "metadata": {},
     "output_type": "execute_result"
    }
   ],
   "source": [
    "countries = habitats[['SITECODE', 'COUNTRY_CODE']]\n",
    "countries"
   ]
  },
  {
   "cell_type": "code",
   "execution_count": 273,
   "id": "e018c086",
   "metadata": {},
   "outputs": [],
   "source": [
    "species = species[['SITECODE', 'SPECIESNAME', 'SPGROUP']]\n",
    "species.columns = ['SITECODE', 'SPECIESNAME', 'SPECIESGROUP']"
   ]
  },
  {
   "cell_type": "code",
   "execution_count": 274,
   "id": "18aabe69",
   "metadata": {},
   "outputs": [],
   "source": [
    "other_species = other_species[['SITECODE',  'SPECIESNAME','SPECIESGROUP']]\n",
    "other_species.columns = ['SITECODE', 'SPECIESNAME', 'SPECIESGROUP']"
   ]
  },
  {
   "cell_type": "code",
   "execution_count": 275,
   "id": "102f83c1",
   "metadata": {},
   "outputs": [],
   "source": [
    "habitat_class = habitats[['SITECODE', 'DESCRIPTION']]\n",
    "habitat_class.columns = ['SITECODE', 'HABITAT_DESCRIPTION']"
   ]
  },
  {
   "cell_type": "code",
   "execution_count": 276,
   "id": "5940dcfe",
   "metadata": {},
   "outputs": [],
   "source": [
    "impact = impact[['SITECODE', 'DESCRIPTION']]\n",
    "impact.columns = ['SITECODE', 'IMPACT_DESCRIPTION']"
   ]
  },
  {
   "cell_type": "code",
   "execution_count": 277,
   "id": "b356f0df",
   "metadata": {},
   "outputs": [],
   "source": [
    "management = management[['SITECODE', 'MANAG_CONSERV_MEASURES', 'MANAG_PLAN']]"
   ]
  },
  {
   "cell_type": "markdown",
   "id": "401be786",
   "metadata": {},
   "source": [
    "# Merging columns"
   ]
  },
  {
   "cell_type": "code",
   "execution_count": 278,
   "id": "e7b4dd65",
   "metadata": {},
   "outputs": [],
   "source": [
    "bioregion = bioregion.merge(countries, on='SITECODE').merge(sitenames, on='SITECODE').drop_duplicates()"
   ]
  },
  {
   "cell_type": "code",
   "execution_count": 279,
   "id": "b043f0f2",
   "metadata": {},
   "outputs": [],
   "source": [
    "species = pd.concat([species, other_species])"
   ]
  },
  {
   "cell_type": "code",
   "execution_count": 281,
   "id": "c0146736",
   "metadata": {},
   "outputs": [],
   "source": [
    "species = species.groupby(['SITECODE','SPECIESGROUP'], as_index=False).count()"
   ]
  },
  {
   "cell_type": "code",
   "execution_count": 282,
   "id": "64029342",
   "metadata": {
    "scrolled": true
   },
   "outputs": [
    {
     "data": {
      "text/html": [
       "<div>\n",
       "<style scoped>\n",
       "    .dataframe tbody tr th:only-of-type {\n",
       "        vertical-align: middle;\n",
       "    }\n",
       "\n",
       "    .dataframe tbody tr th {\n",
       "        vertical-align: top;\n",
       "    }\n",
       "\n",
       "    .dataframe thead th {\n",
       "        text-align: right;\n",
       "    }\n",
       "</style>\n",
       "<table border=\"1\" class=\"dataframe\">\n",
       "  <thead>\n",
       "    <tr style=\"text-align: right;\">\n",
       "      <th></th>\n",
       "      <th>SITECODE</th>\n",
       "      <th>IMPACT_DESCRIPTION</th>\n",
       "      <th>MANAG_CONSERV_MEASURES</th>\n",
       "      <th>MANAG_PLAN</th>\n",
       "    </tr>\n",
       "  </thead>\n",
       "  <tbody>\n",
       "    <tr>\n",
       "      <th>0</th>\n",
       "      <td>LTKED0003</td>\n",
       "      <td>Sylviculture, forestry</td>\n",
       "      <td>NaN</td>\n",
       "      <td>NaN</td>\n",
       "    </tr>\n",
       "    <tr>\n",
       "      <th>1</th>\n",
       "      <td>LTKED0003</td>\n",
       "      <td>disposal of household / recreational facility ...</td>\n",
       "      <td>NaN</td>\n",
       "      <td>NaN</td>\n",
       "    </tr>\n",
       "    <tr>\n",
       "      <th>2</th>\n",
       "      <td>LTKED0003</td>\n",
       "      <td>invasive non-native species</td>\n",
       "      <td>NaN</td>\n",
       "      <td>NaN</td>\n",
       "    </tr>\n",
       "    <tr>\n",
       "      <th>3</th>\n",
       "      <td>IE0000397</td>\n",
       "      <td>Sand and gravel extraction</td>\n",
       "      <td>NaN</td>\n",
       "      <td>NaN</td>\n",
       "    </tr>\n",
       "    <tr>\n",
       "      <th>4</th>\n",
       "      <td>IE0000397</td>\n",
       "      <td>grazing</td>\n",
       "      <td>NaN</td>\n",
       "      <td>NaN</td>\n",
       "    </tr>\n",
       "  </tbody>\n",
       "</table>\n",
       "</div>"
      ],
      "text/plain": [
       "    SITECODE                                 IMPACT_DESCRIPTION  \\\n",
       "0  LTKED0003                             Sylviculture, forestry   \n",
       "1  LTKED0003  disposal of household / recreational facility ...   \n",
       "2  LTKED0003                        invasive non-native species   \n",
       "3  IE0000397                        Sand and gravel extraction    \n",
       "4  IE0000397                                            grazing   \n",
       "\n",
       "  MANAG_CONSERV_MEASURES MANAG_PLAN  \n",
       "0                    NaN        NaN  \n",
       "1                    NaN        NaN  \n",
       "2                    NaN        NaN  \n",
       "3                    NaN        NaN  \n",
       "4                    NaN        NaN  "
      ]
     },
     "execution_count": 282,
     "metadata": {},
     "output_type": "execute_result"
    }
   ],
   "source": [
    "impact_management = impact.merge(management, on='SITECODE')\n",
    "impact_management.head()"
   ]
  },
  {
   "cell_type": "markdown",
   "id": "bc3b9aeb",
   "metadata": {},
   "source": [
    "# Check unique values"
   ]
  },
  {
   "cell_type": "code",
   "execution_count": 283,
   "id": "b48aab97",
   "metadata": {},
   "outputs": [],
   "source": [
    "# Dictionary mapping country codes to country names\n",
    "country_map = {\n",
    "    'FR': 'France', 'GR': 'Greece', 'HR': 'Croatia', 'ES': 'Spain', 'SE': 'Sweden',\n",
    "    'DK': 'Denmark', 'EE': 'Estonia', 'MT': 'Malta', 'HU': 'Hungary', 'NL': 'Netherlands',\n",
    "    'AT': 'Austria', 'BG': 'Bulgaria', 'FI': 'Finland', 'PL': 'Poland', 'PT': 'Portugal',\n",
    "    'LT': 'Lithuania', 'LU': 'Luxembourg', 'LV': 'Latvia', 'RO': 'Romania', 'IT': 'Italy',\n",
    "    'BE': 'Belgium', 'IE': 'Ireland', 'CZ': 'Czech Republic', 'CY': 'Cyprus', 'SI': 'Slovenia',\n",
    "    'SK': 'Slovakia', 'DE': 'Germany'\n",
    "}\n",
    "\n",
    "# Map the country codes to country names and create a new column\n",
    "bioregion['COUNTRY_NAME'] = bioregion['COUNTRY_CODE'].map(country_map)"
   ]
  },
  {
   "cell_type": "code",
   "execution_count": 284,
   "id": "86485802",
   "metadata": {},
   "outputs": [
    {
     "data": {
      "text/html": [
       "<div>\n",
       "<style scoped>\n",
       "    .dataframe tbody tr th:only-of-type {\n",
       "        vertical-align: middle;\n",
       "    }\n",
       "\n",
       "    .dataframe tbody tr th {\n",
       "        vertical-align: top;\n",
       "    }\n",
       "\n",
       "    .dataframe thead th {\n",
       "        text-align: right;\n",
       "    }\n",
       "</style>\n",
       "<table border=\"1\" class=\"dataframe\">\n",
       "  <thead>\n",
       "    <tr style=\"text-align: right;\">\n",
       "      <th></th>\n",
       "      <th>SITECODE</th>\n",
       "      <th>BIOREGION</th>\n",
       "      <th>COUNTRY_CODE</th>\n",
       "      <th>SITENAME</th>\n",
       "      <th>COUNTRY_NAME</th>\n",
       "    </tr>\n",
       "  </thead>\n",
       "  <tbody>\n",
       "    <tr>\n",
       "      <th>0</th>\n",
       "      <td>FR9101379</td>\n",
       "      <td>Mediterranean</td>\n",
       "      <td>FR</td>\n",
       "      <td>Causse Méjean</td>\n",
       "      <td>France</td>\n",
       "    </tr>\n",
       "    <tr>\n",
       "      <th>5</th>\n",
       "      <td>FR9101395</td>\n",
       "      <td>Mediterranean</td>\n",
       "      <td>FR</td>\n",
       "      <td>Le Gardon et ses gorges</td>\n",
       "      <td>France</td>\n",
       "    </tr>\n",
       "    <tr>\n",
       "      <th>15</th>\n",
       "      <td>FR9101413</td>\n",
       "      <td>Mediterranean</td>\n",
       "      <td>FR</td>\n",
       "      <td>Posidonies de la côte palavasienne</td>\n",
       "      <td>France</td>\n",
       "    </tr>\n",
       "    <tr>\n",
       "      <th>19</th>\n",
       "      <td>FR9101427</td>\n",
       "      <td>Mediterranean</td>\n",
       "      <td>FR</td>\n",
       "      <td>Grotte de Julio</td>\n",
       "      <td>France</td>\n",
       "    </tr>\n",
       "    <tr>\n",
       "      <th>23</th>\n",
       "      <td>FR9101430</td>\n",
       "      <td>Mediterranean</td>\n",
       "      <td>FR</td>\n",
       "      <td>Plateau de Roquehaute</td>\n",
       "      <td>France</td>\n",
       "    </tr>\n",
       "    <tr>\n",
       "      <th>...</th>\n",
       "      <td>...</td>\n",
       "      <td>...</td>\n",
       "      <td>...</td>\n",
       "      <td>...</td>\n",
       "      <td>...</td>\n",
       "    </tr>\n",
       "    <tr>\n",
       "      <th>169194</th>\n",
       "      <td>DE4405303</td>\n",
       "      <td>Atlantic</td>\n",
       "      <td>DE</td>\n",
       "      <td>NSG Rheinvorland im Orsoyer Rheinbogen, mit Er...</td>\n",
       "      <td>Germany</td>\n",
       "    </tr>\n",
       "    <tr>\n",
       "      <th>169197</th>\n",
       "      <td>DE4407301</td>\n",
       "      <td>Atlantic</td>\n",
       "      <td>DE</td>\n",
       "      <td>Kirchheller Heide und Hiesfelder Wald</td>\n",
       "      <td>Germany</td>\n",
       "    </tr>\n",
       "    <tr>\n",
       "      <th>169207</th>\n",
       "      <td>DE5107302</td>\n",
       "      <td>Atlantic</td>\n",
       "      <td>DE</td>\n",
       "      <td>Waldseenbereich Theresia</td>\n",
       "      <td>Germany</td>\n",
       "    </tr>\n",
       "    <tr>\n",
       "      <th>169208</th>\n",
       "      <td>DE5108301</td>\n",
       "      <td>Atlantic</td>\n",
       "      <td>DE</td>\n",
       "      <td>Wahner Heide</td>\n",
       "      <td>Germany</td>\n",
       "    </tr>\n",
       "    <tr>\n",
       "      <th>169224</th>\n",
       "      <td>DE5207301</td>\n",
       "      <td>Atlantic</td>\n",
       "      <td>DE</td>\n",
       "      <td>Waldville</td>\n",
       "      <td>Germany</td>\n",
       "    </tr>\n",
       "  </tbody>\n",
       "</table>\n",
       "<p>24332 rows × 5 columns</p>\n",
       "</div>"
      ],
      "text/plain": [
       "         SITECODE      BIOREGION COUNTRY_CODE  \\\n",
       "0       FR9101379  Mediterranean           FR   \n",
       "5       FR9101395  Mediterranean           FR   \n",
       "15      FR9101413  Mediterranean           FR   \n",
       "19      FR9101427  Mediterranean           FR   \n",
       "23      FR9101430  Mediterranean           FR   \n",
       "...           ...            ...          ...   \n",
       "169194  DE4405303       Atlantic           DE   \n",
       "169197  DE4407301       Atlantic           DE   \n",
       "169207  DE5107302       Atlantic           DE   \n",
       "169208  DE5108301       Atlantic           DE   \n",
       "169224  DE5207301       Atlantic           DE   \n",
       "\n",
       "                                                 SITENAME COUNTRY_NAME  \n",
       "0                                           Causse Méjean       France  \n",
       "5                                 Le Gardon et ses gorges       France  \n",
       "15                     Posidonies de la côte palavasienne       France  \n",
       "19                                        Grotte de Julio       France  \n",
       "23                                  Plateau de Roquehaute       France  \n",
       "...                                                   ...          ...  \n",
       "169194  NSG Rheinvorland im Orsoyer Rheinbogen, mit Er...      Germany  \n",
       "169197              Kirchheller Heide und Hiesfelder Wald      Germany  \n",
       "169207                           Waldseenbereich Theresia      Germany  \n",
       "169208                                       Wahner Heide      Germany  \n",
       "169224                                          Waldville      Germany  \n",
       "\n",
       "[24332 rows x 5 columns]"
      ]
     },
     "execution_count": 284,
     "metadata": {},
     "output_type": "execute_result"
    }
   ],
   "source": [
    "bioregion"
   ]
  },
  {
   "cell_type": "code",
   "execution_count": 285,
   "id": "5aa8597f",
   "metadata": {},
   "outputs": [
    {
     "data": {
      "text/html": [
       "<div>\n",
       "<style scoped>\n",
       "    .dataframe tbody tr th:only-of-type {\n",
       "        vertical-align: middle;\n",
       "    }\n",
       "\n",
       "    .dataframe tbody tr th {\n",
       "        vertical-align: top;\n",
       "    }\n",
       "\n",
       "    .dataframe thead th {\n",
       "        text-align: right;\n",
       "    }\n",
       "</style>\n",
       "<table border=\"1\" class=\"dataframe\">\n",
       "  <thead>\n",
       "    <tr style=\"text-align: right;\">\n",
       "      <th></th>\n",
       "      <th>SITECODE</th>\n",
       "      <th>SPECIESGROUP</th>\n",
       "      <th>SPECIESNAME</th>\n",
       "    </tr>\n",
       "  </thead>\n",
       "  <tbody>\n",
       "    <tr>\n",
       "      <th>0</th>\n",
       "      <td>AT1101112</td>\n",
       "      <td>Birds</td>\n",
       "      <td>3</td>\n",
       "    </tr>\n",
       "    <tr>\n",
       "      <th>1</th>\n",
       "      <td>AT1101112</td>\n",
       "      <td>Plants</td>\n",
       "      <td>9</td>\n",
       "    </tr>\n",
       "    <tr>\n",
       "      <th>2</th>\n",
       "      <td>AT1102112</td>\n",
       "      <td>Birds</td>\n",
       "      <td>9</td>\n",
       "    </tr>\n",
       "    <tr>\n",
       "      <th>3</th>\n",
       "      <td>AT1102112</td>\n",
       "      <td>Mammals</td>\n",
       "      <td>1</td>\n",
       "    </tr>\n",
       "    <tr>\n",
       "      <th>4</th>\n",
       "      <td>AT1102112</td>\n",
       "      <td>Plants</td>\n",
       "      <td>7</td>\n",
       "    </tr>\n",
       "    <tr>\n",
       "      <th>...</th>\n",
       "      <td>...</td>\n",
       "      <td>...</td>\n",
       "      <td>...</td>\n",
       "    </tr>\n",
       "    <tr>\n",
       "      <th>69821</th>\n",
       "      <td>SKUEV4083</td>\n",
       "      <td>Amphibians</td>\n",
       "      <td>1</td>\n",
       "    </tr>\n",
       "    <tr>\n",
       "      <th>69822</th>\n",
       "      <td>SKUEV4083</td>\n",
       "      <td>Plants</td>\n",
       "      <td>1</td>\n",
       "    </tr>\n",
       "    <tr>\n",
       "      <th>69823</th>\n",
       "      <td>SKUEV4087</td>\n",
       "      <td>Invertebrates</td>\n",
       "      <td>1</td>\n",
       "    </tr>\n",
       "    <tr>\n",
       "      <th>69824</th>\n",
       "      <td>SKUEV4088</td>\n",
       "      <td>Invertebrates</td>\n",
       "      <td>1</td>\n",
       "    </tr>\n",
       "    <tr>\n",
       "      <th>69825</th>\n",
       "      <td>SKUEV4092</td>\n",
       "      <td>Plants</td>\n",
       "      <td>1</td>\n",
       "    </tr>\n",
       "  </tbody>\n",
       "</table>\n",
       "<p>69826 rows × 3 columns</p>\n",
       "</div>"
      ],
      "text/plain": [
       "        SITECODE   SPECIESGROUP  SPECIESNAME\n",
       "0      AT1101112          Birds            3\n",
       "1      AT1101112         Plants            9\n",
       "2      AT1102112          Birds            9\n",
       "3      AT1102112        Mammals            1\n",
       "4      AT1102112         Plants            7\n",
       "...          ...            ...          ...\n",
       "69821  SKUEV4083     Amphibians            1\n",
       "69822  SKUEV4083         Plants            1\n",
       "69823  SKUEV4087  Invertebrates            1\n",
       "69824  SKUEV4088  Invertebrates            1\n",
       "69825  SKUEV4092         Plants            1\n",
       "\n",
       "[69826 rows x 3 columns]"
      ]
     },
     "execution_count": 285,
     "metadata": {},
     "output_type": "execute_result"
    }
   ],
   "source": [
    "species"
   ]
  },
  {
   "cell_type": "code",
   "execution_count": 286,
   "id": "8565c0db",
   "metadata": {},
   "outputs": [],
   "source": [
    "impact_management = impact_management[impact_management['SITECODE'].isin(sitecodes_unique)]\n",
    "species = species[species['SITECODE'].isin(sitecodes_unique)]\n",
    "bioregion = bioregion[bioregion['SITECODE'].isin(sitecodes_unique)]\n",
    "habitat_class = habitat_class[habitat_class['SITECODE'].isin(sitecodes_unique)]"
   ]
  },
  {
   "cell_type": "markdown",
   "id": "c66b063b",
   "metadata": {},
   "source": [
    "# Write new file"
   ]
  },
  {
   "cell_type": "code",
   "execution_count": 287,
   "id": "46f2112e",
   "metadata": {},
   "outputs": [],
   "source": [
    "bioregion.to_csv('../raw_data/pa_infos_csv/new_csvs/bioregion.csv', index=False)"
   ]
  },
  {
   "cell_type": "code",
   "execution_count": 288,
   "id": "92a0f8ed",
   "metadata": {},
   "outputs": [],
   "source": [
    "species.to_csv('../raw_data/pa_infos_csv/new_csvs/species.csv', index=False)"
   ]
  },
  {
   "cell_type": "code",
   "execution_count": 289,
   "id": "8f8f8427",
   "metadata": {},
   "outputs": [],
   "source": [
    "impact_management.to_csv('../raw_data/pa_infos_csv/new_csvs/impact_management.csv', index=False)"
   ]
  },
  {
   "cell_type": "code",
   "execution_count": 290,
   "id": "dea9f15c",
   "metadata": {},
   "outputs": [],
   "source": [
    "habitat_class.to_csv('../raw_data/pa_infos_csv/new_csvs/habitat_class.csv', index=False)"
   ]
  },
  {
   "cell_type": "code",
   "execution_count": 291,
   "id": "6d610582",
   "metadata": {},
   "outputs": [],
   "source": [
    "bioregion = pd.read_csv('../raw_data/pa_infos_csv/new_csvs/bioregion.csv', sep=',')\n",
    "impact_management = pd.read_csv('../raw_data/pa_infos_csv/new_csvs/impact_management.csv', sep=',')\n",
    "species = pd.read_csv('../raw_data/pa_infos_csv/new_csvs/species.csv', sep=',')\n",
    "habitat_class = pd.read_csv('../raw_data/pa_infos_csv/new_csvs/habitat_class.csv', sep=',')"
   ]
  },
  {
   "cell_type": "code",
   "execution_count": 313,
   "id": "9b3fe228",
   "metadata": {},
   "outputs": [],
   "source": [
    "df = pd.read_csv('../raw_data/final_table_no_negative_new_model.csv', index_col=[0])"
   ]
  },
  {
   "cell_type": "code",
   "execution_count": 312,
   "id": "9fb9d39b",
   "metadata": {},
   "outputs": [
    {
     "ename": "KeyError",
     "evalue": "\"['a'] not found in axis\"",
     "output_type": "error",
     "traceback": [
      "\u001b[0;31m---------------------------------------------------------------------------\u001b[0m",
      "\u001b[0;31mKeyError\u001b[0m                                  Traceback (most recent call last)",
      "Cell \u001b[0;32mIn[312], line 1\u001b[0m\n\u001b[0;32m----> 1\u001b[0m \u001b[43mdf\u001b[49m\u001b[38;5;241;43m.\u001b[39;49m\u001b[43mdrop\u001b[49m\u001b[43m(\u001b[49m\u001b[43m[\u001b[49m\u001b[38;5;124;43m'\u001b[39;49m\u001b[38;5;124;43ma\u001b[39;49m\u001b[38;5;124;43m'\u001b[39;49m\u001b[43m]\u001b[49m\u001b[43m,\u001b[49m\u001b[43m \u001b[49m\u001b[43minplace\u001b[49m\u001b[38;5;241;43m=\u001b[39;49m\u001b[38;5;28;43;01mTrue\u001b[39;49;00m\u001b[43m)\u001b[49m\n",
      "File \u001b[0;32m~/.pyenv/versions/3.10.6/envs/Predicting_land_cover/lib/python3.10/site-packages/pandas/core/frame.py:5581\u001b[0m, in \u001b[0;36mDataFrame.drop\u001b[0;34m(self, labels, axis, index, columns, level, inplace, errors)\u001b[0m\n\u001b[1;32m   5433\u001b[0m \u001b[38;5;28;01mdef\u001b[39;00m \u001b[38;5;21mdrop\u001b[39m(\n\u001b[1;32m   5434\u001b[0m     \u001b[38;5;28mself\u001b[39m,\n\u001b[1;32m   5435\u001b[0m     labels: IndexLabel \u001b[38;5;241m|\u001b[39m \u001b[38;5;28;01mNone\u001b[39;00m \u001b[38;5;241m=\u001b[39m \u001b[38;5;28;01mNone\u001b[39;00m,\n\u001b[0;32m   (...)\u001b[0m\n\u001b[1;32m   5442\u001b[0m     errors: IgnoreRaise \u001b[38;5;241m=\u001b[39m \u001b[38;5;124m\"\u001b[39m\u001b[38;5;124mraise\u001b[39m\u001b[38;5;124m\"\u001b[39m,\n\u001b[1;32m   5443\u001b[0m ) \u001b[38;5;241m-\u001b[39m\u001b[38;5;241m>\u001b[39m DataFrame \u001b[38;5;241m|\u001b[39m \u001b[38;5;28;01mNone\u001b[39;00m:\n\u001b[1;32m   5444\u001b[0m \u001b[38;5;250m    \u001b[39m\u001b[38;5;124;03m\"\"\"\u001b[39;00m\n\u001b[1;32m   5445\u001b[0m \u001b[38;5;124;03m    Drop specified labels from rows or columns.\u001b[39;00m\n\u001b[1;32m   5446\u001b[0m \n\u001b[0;32m   (...)\u001b[0m\n\u001b[1;32m   5579\u001b[0m \u001b[38;5;124;03m            weight  1.0     0.8\u001b[39;00m\n\u001b[1;32m   5580\u001b[0m \u001b[38;5;124;03m    \"\"\"\u001b[39;00m\n\u001b[0;32m-> 5581\u001b[0m     \u001b[38;5;28;01mreturn\u001b[39;00m \u001b[38;5;28;43msuper\u001b[39;49m\u001b[43m(\u001b[49m\u001b[43m)\u001b[49m\u001b[38;5;241;43m.\u001b[39;49m\u001b[43mdrop\u001b[49m\u001b[43m(\u001b[49m\n\u001b[1;32m   5582\u001b[0m \u001b[43m        \u001b[49m\u001b[43mlabels\u001b[49m\u001b[38;5;241;43m=\u001b[39;49m\u001b[43mlabels\u001b[49m\u001b[43m,\u001b[49m\n\u001b[1;32m   5583\u001b[0m \u001b[43m        \u001b[49m\u001b[43maxis\u001b[49m\u001b[38;5;241;43m=\u001b[39;49m\u001b[43maxis\u001b[49m\u001b[43m,\u001b[49m\n\u001b[1;32m   5584\u001b[0m \u001b[43m        \u001b[49m\u001b[43mindex\u001b[49m\u001b[38;5;241;43m=\u001b[39;49m\u001b[43mindex\u001b[49m\u001b[43m,\u001b[49m\n\u001b[1;32m   5585\u001b[0m \u001b[43m        \u001b[49m\u001b[43mcolumns\u001b[49m\u001b[38;5;241;43m=\u001b[39;49m\u001b[43mcolumns\u001b[49m\u001b[43m,\u001b[49m\n\u001b[1;32m   5586\u001b[0m \u001b[43m        \u001b[49m\u001b[43mlevel\u001b[49m\u001b[38;5;241;43m=\u001b[39;49m\u001b[43mlevel\u001b[49m\u001b[43m,\u001b[49m\n\u001b[1;32m   5587\u001b[0m \u001b[43m        \u001b[49m\u001b[43minplace\u001b[49m\u001b[38;5;241;43m=\u001b[39;49m\u001b[43minplace\u001b[49m\u001b[43m,\u001b[49m\n\u001b[1;32m   5588\u001b[0m \u001b[43m        \u001b[49m\u001b[43merrors\u001b[49m\u001b[38;5;241;43m=\u001b[39;49m\u001b[43merrors\u001b[49m\u001b[43m,\u001b[49m\n\u001b[1;32m   5589\u001b[0m \u001b[43m    \u001b[49m\u001b[43m)\u001b[49m\n",
      "File \u001b[0;32m~/.pyenv/versions/3.10.6/envs/Predicting_land_cover/lib/python3.10/site-packages/pandas/core/generic.py:4788\u001b[0m, in \u001b[0;36mNDFrame.drop\u001b[0;34m(self, labels, axis, index, columns, level, inplace, errors)\u001b[0m\n\u001b[1;32m   4786\u001b[0m \u001b[38;5;28;01mfor\u001b[39;00m axis, labels \u001b[38;5;129;01min\u001b[39;00m axes\u001b[38;5;241m.\u001b[39mitems():\n\u001b[1;32m   4787\u001b[0m     \u001b[38;5;28;01mif\u001b[39;00m labels \u001b[38;5;129;01mis\u001b[39;00m \u001b[38;5;129;01mnot\u001b[39;00m \u001b[38;5;28;01mNone\u001b[39;00m:\n\u001b[0;32m-> 4788\u001b[0m         obj \u001b[38;5;241m=\u001b[39m \u001b[43mobj\u001b[49m\u001b[38;5;241;43m.\u001b[39;49m\u001b[43m_drop_axis\u001b[49m\u001b[43m(\u001b[49m\u001b[43mlabels\u001b[49m\u001b[43m,\u001b[49m\u001b[43m \u001b[49m\u001b[43maxis\u001b[49m\u001b[43m,\u001b[49m\u001b[43m \u001b[49m\u001b[43mlevel\u001b[49m\u001b[38;5;241;43m=\u001b[39;49m\u001b[43mlevel\u001b[49m\u001b[43m,\u001b[49m\u001b[43m \u001b[49m\u001b[43merrors\u001b[49m\u001b[38;5;241;43m=\u001b[39;49m\u001b[43merrors\u001b[49m\u001b[43m)\u001b[49m\n\u001b[1;32m   4790\u001b[0m \u001b[38;5;28;01mif\u001b[39;00m inplace:\n\u001b[1;32m   4791\u001b[0m     \u001b[38;5;28mself\u001b[39m\u001b[38;5;241m.\u001b[39m_update_inplace(obj)\n",
      "File \u001b[0;32m~/.pyenv/versions/3.10.6/envs/Predicting_land_cover/lib/python3.10/site-packages/pandas/core/generic.py:4830\u001b[0m, in \u001b[0;36mNDFrame._drop_axis\u001b[0;34m(self, labels, axis, level, errors, only_slice)\u001b[0m\n\u001b[1;32m   4828\u001b[0m         new_axis \u001b[38;5;241m=\u001b[39m axis\u001b[38;5;241m.\u001b[39mdrop(labels, level\u001b[38;5;241m=\u001b[39mlevel, errors\u001b[38;5;241m=\u001b[39merrors)\n\u001b[1;32m   4829\u001b[0m     \u001b[38;5;28;01melse\u001b[39;00m:\n\u001b[0;32m-> 4830\u001b[0m         new_axis \u001b[38;5;241m=\u001b[39m \u001b[43maxis\u001b[49m\u001b[38;5;241;43m.\u001b[39;49m\u001b[43mdrop\u001b[49m\u001b[43m(\u001b[49m\u001b[43mlabels\u001b[49m\u001b[43m,\u001b[49m\u001b[43m \u001b[49m\u001b[43merrors\u001b[49m\u001b[38;5;241;43m=\u001b[39;49m\u001b[43merrors\u001b[49m\u001b[43m)\u001b[49m\n\u001b[1;32m   4831\u001b[0m     indexer \u001b[38;5;241m=\u001b[39m axis\u001b[38;5;241m.\u001b[39mget_indexer(new_axis)\n\u001b[1;32m   4833\u001b[0m \u001b[38;5;66;03m# Case for non-unique axis\u001b[39;00m\n\u001b[1;32m   4834\u001b[0m \u001b[38;5;28;01melse\u001b[39;00m:\n",
      "File \u001b[0;32m~/.pyenv/versions/3.10.6/envs/Predicting_land_cover/lib/python3.10/site-packages/pandas/core/indexes/base.py:7070\u001b[0m, in \u001b[0;36mIndex.drop\u001b[0;34m(self, labels, errors)\u001b[0m\n\u001b[1;32m   7068\u001b[0m \u001b[38;5;28;01mif\u001b[39;00m mask\u001b[38;5;241m.\u001b[39many():\n\u001b[1;32m   7069\u001b[0m     \u001b[38;5;28;01mif\u001b[39;00m errors \u001b[38;5;241m!=\u001b[39m \u001b[38;5;124m\"\u001b[39m\u001b[38;5;124mignore\u001b[39m\u001b[38;5;124m\"\u001b[39m:\n\u001b[0;32m-> 7070\u001b[0m         \u001b[38;5;28;01mraise\u001b[39;00m \u001b[38;5;167;01mKeyError\u001b[39;00m(\u001b[38;5;124mf\u001b[39m\u001b[38;5;124m\"\u001b[39m\u001b[38;5;132;01m{\u001b[39;00mlabels[mask]\u001b[38;5;241m.\u001b[39mtolist()\u001b[38;5;132;01m}\u001b[39;00m\u001b[38;5;124m not found in axis\u001b[39m\u001b[38;5;124m\"\u001b[39m)\n\u001b[1;32m   7071\u001b[0m     indexer \u001b[38;5;241m=\u001b[39m indexer[\u001b[38;5;241m~\u001b[39mmask]\n\u001b[1;32m   7072\u001b[0m \u001b[38;5;28;01mreturn\u001b[39;00m \u001b[38;5;28mself\u001b[39m\u001b[38;5;241m.\u001b[39mdelete(indexer)\n",
      "\u001b[0;31mKeyError\u001b[0m: \"['a'] not found in axis\""
     ]
    }
   ],
   "source": [
    "df.drop(['a'], inplace=True)"
   ]
  },
  {
   "cell_type": "code",
   "execution_count": 301,
   "id": "178d5d7e",
   "metadata": {},
   "outputs": [],
   "source": [
    "df.to_csv('../raw_data/final_table_no_negative.csv', index=False)"
   ]
  },
  {
   "cell_type": "code",
   "execution_count": null,
   "id": "95609358",
   "metadata": {},
   "outputs": [],
   "source": []
  }
 ],
 "metadata": {
  "kernelspec": {
   "display_name": "Python 3 (ipykernel)",
   "language": "python",
   "name": "python3"
  },
  "language_info": {
   "codemirror_mode": {
    "name": "ipython",
    "version": 3
   },
   "file_extension": ".py",
   "mimetype": "text/x-python",
   "name": "python",
   "nbconvert_exporter": "python",
   "pygments_lexer": "ipython3",
   "version": "3.10.6"
  },
  "toc": {
   "base_numbering": 1,
   "nav_menu": {},
   "number_sections": true,
   "sideBar": true,
   "skip_h1_title": false,
   "title_cell": "Table of Contents",
   "title_sidebar": "Contents",
   "toc_cell": false,
   "toc_position": {},
   "toc_section_display": true,
   "toc_window_display": false
  }
 },
 "nbformat": 4,
 "nbformat_minor": 5
}
